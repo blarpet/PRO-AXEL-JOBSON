{
 "metadata": {
  "language_info": {
   "codemirror_mode": {
    "name": "ipython",
    "version": 3
   },
   "file_extension": ".py",
   "mimetype": "text/x-python",
   "name": "python",
   "nbconvert_exporter": "python",
   "pygments_lexer": "ipython3",
   "version": "3.8.1"
  },
  "orig_nbformat": 2,
  "kernelspec": {
   "name": "python381jvsc74a57bd0acab747f705e2d2d67d7b5f85d0439e6925ec1dbd5d61423de190953ba9f20bb",
   "display_name": "Python 3.8.1 32-bit"
  },
  "metadata": {
   "interpreter": {
    "hash": "acab747f705e2d2d67d7b5f85d0439e6925ec1dbd5d61423de190953ba9f20bb"
   }
  }
 },
 "nbformat": 4,
 "nbformat_minor": 2,
 "cells": [
  {
   "cell_type": "code",
   "execution_count": 8,
   "metadata": {},
   "outputs": [
    {
     "output_type": "execute_result",
     "data": {
      "text/plain": [
       "          syssels�ttning     �lder      k�n    2019\n",
       "0      f�rv�rvsarbetande  16-19 �r      m�n   58826\n",
       "1      f�rv�rvsarbetande  16-19 �r  kvinnor   72847\n",
       "2      f�rv�rvsarbetande  20-24 �r      m�n  192696\n",
       "3      f�rv�rvsarbetande  20-24 �r  kvinnor  174074\n",
       "4      f�rv�rvsarbetande  25-29 �r      m�n  293352\n",
       "5      f�rv�rvsarbetande  25-29 �r  kvinnor  268587\n",
       "6      f�rv�rvsarbetande  30-34 �r      m�n  303019\n",
       "7      f�rv�rvsarbetande  30-34 �r  kvinnor  271975\n",
       "8      f�rv�rvsarbetande  35-39 �r      m�n  280522\n",
       "9      f�rv�rvsarbetande  35-39 �r  kvinnor  255391\n",
       "10     f�rv�rvsarbetande  40-44 �r      m�n  275085\n",
       "11     f�rv�rvsarbetande  40-44 �r  kvinnor  260093\n",
       "12  ej f�rv�rvsarbetande  16-19 �r      m�n  176860\n",
       "13  ej f�rv�rvsarbetande  16-19 �r  kvinnor  143432\n",
       "14  ej f�rv�rvsarbetande  20-24 �r      m�n  117928\n",
       "15  ej f�rv�rvsarbetande  20-24 �r  kvinnor  103001\n",
       "16  ej f�rv�rvsarbetande  25-29 �r      m�n   86633\n",
       "17  ej f�rv�rvsarbetande  25-29 �r  kvinnor   91124\n",
       "18  ej f�rv�rvsarbetande  30-34 �r      m�n   64162\n",
       "19  ej f�rv�rvsarbetande  30-34 �r  kvinnor   76735\n",
       "20  ej f�rv�rvsarbetande  35-39 �r      m�n   53373\n",
       "21  ej f�rv�rvsarbetande  35-39 �r  kvinnor   61312\n",
       "22  ej f�rv�rvsarbetande  40-44 �r      m�n   46857\n",
       "23  ej f�rv�rvsarbetande  40-44 �r  kvinnor   49228"
      ],
      "text/html": "<div>\n<style scoped>\n    .dataframe tbody tr th:only-of-type {\n        vertical-align: middle;\n    }\n\n    .dataframe tbody tr th {\n        vertical-align: top;\n    }\n\n    .dataframe thead th {\n        text-align: right;\n    }\n</style>\n<table border=\"1\" class=\"dataframe\">\n  <thead>\n    <tr style=\"text-align: right;\">\n      <th></th>\n      <th>syssels�ttning</th>\n      <th>�lder</th>\n      <th>k�n</th>\n      <th>2019</th>\n    </tr>\n  </thead>\n  <tbody>\n    <tr>\n      <th>0</th>\n      <td>f�rv�rvsarbetande</td>\n      <td>16-19 �r</td>\n      <td>m�n</td>\n      <td>58826</td>\n    </tr>\n    <tr>\n      <th>1</th>\n      <td>f�rv�rvsarbetande</td>\n      <td>16-19 �r</td>\n      <td>kvinnor</td>\n      <td>72847</td>\n    </tr>\n    <tr>\n      <th>2</th>\n      <td>f�rv�rvsarbetande</td>\n      <td>20-24 �r</td>\n      <td>m�n</td>\n      <td>192696</td>\n    </tr>\n    <tr>\n      <th>3</th>\n      <td>f�rv�rvsarbetande</td>\n      <td>20-24 �r</td>\n      <td>kvinnor</td>\n      <td>174074</td>\n    </tr>\n    <tr>\n      <th>4</th>\n      <td>f�rv�rvsarbetande</td>\n      <td>25-29 �r</td>\n      <td>m�n</td>\n      <td>293352</td>\n    </tr>\n    <tr>\n      <th>5</th>\n      <td>f�rv�rvsarbetande</td>\n      <td>25-29 �r</td>\n      <td>kvinnor</td>\n      <td>268587</td>\n    </tr>\n    <tr>\n      <th>6</th>\n      <td>f�rv�rvsarbetande</td>\n      <td>30-34 �r</td>\n      <td>m�n</td>\n      <td>303019</td>\n    </tr>\n    <tr>\n      <th>7</th>\n      <td>f�rv�rvsarbetande</td>\n      <td>30-34 �r</td>\n      <td>kvinnor</td>\n      <td>271975</td>\n    </tr>\n    <tr>\n      <th>8</th>\n      <td>f�rv�rvsarbetande</td>\n      <td>35-39 �r</td>\n      <td>m�n</td>\n      <td>280522</td>\n    </tr>\n    <tr>\n      <th>9</th>\n      <td>f�rv�rvsarbetande</td>\n      <td>35-39 �r</td>\n      <td>kvinnor</td>\n      <td>255391</td>\n    </tr>\n    <tr>\n      <th>10</th>\n      <td>f�rv�rvsarbetande</td>\n      <td>40-44 �r</td>\n      <td>m�n</td>\n      <td>275085</td>\n    </tr>\n    <tr>\n      <th>11</th>\n      <td>f�rv�rvsarbetande</td>\n      <td>40-44 �r</td>\n      <td>kvinnor</td>\n      <td>260093</td>\n    </tr>\n    <tr>\n      <th>12</th>\n      <td>ej f�rv�rvsarbetande</td>\n      <td>16-19 �r</td>\n      <td>m�n</td>\n      <td>176860</td>\n    </tr>\n    <tr>\n      <th>13</th>\n      <td>ej f�rv�rvsarbetande</td>\n      <td>16-19 �r</td>\n      <td>kvinnor</td>\n      <td>143432</td>\n    </tr>\n    <tr>\n      <th>14</th>\n      <td>ej f�rv�rvsarbetande</td>\n      <td>20-24 �r</td>\n      <td>m�n</td>\n      <td>117928</td>\n    </tr>\n    <tr>\n      <th>15</th>\n      <td>ej f�rv�rvsarbetande</td>\n      <td>20-24 �r</td>\n      <td>kvinnor</td>\n      <td>103001</td>\n    </tr>\n    <tr>\n      <th>16</th>\n      <td>ej f�rv�rvsarbetande</td>\n      <td>25-29 �r</td>\n      <td>m�n</td>\n      <td>86633</td>\n    </tr>\n    <tr>\n      <th>17</th>\n      <td>ej f�rv�rvsarbetande</td>\n      <td>25-29 �r</td>\n      <td>kvinnor</td>\n      <td>91124</td>\n    </tr>\n    <tr>\n      <th>18</th>\n      <td>ej f�rv�rvsarbetande</td>\n      <td>30-34 �r</td>\n      <td>m�n</td>\n      <td>64162</td>\n    </tr>\n    <tr>\n      <th>19</th>\n      <td>ej f�rv�rvsarbetande</td>\n      <td>30-34 �r</td>\n      <td>kvinnor</td>\n      <td>76735</td>\n    </tr>\n    <tr>\n      <th>20</th>\n      <td>ej f�rv�rvsarbetande</td>\n      <td>35-39 �r</td>\n      <td>m�n</td>\n      <td>53373</td>\n    </tr>\n    <tr>\n      <th>21</th>\n      <td>ej f�rv�rvsarbetande</td>\n      <td>35-39 �r</td>\n      <td>kvinnor</td>\n      <td>61312</td>\n    </tr>\n    <tr>\n      <th>22</th>\n      <td>ej f�rv�rvsarbetande</td>\n      <td>40-44 �r</td>\n      <td>m�n</td>\n      <td>46857</td>\n    </tr>\n    <tr>\n      <th>23</th>\n      <td>ej f�rv�rvsarbetande</td>\n      <td>40-44 �r</td>\n      <td>kvinnor</td>\n      <td>49228</td>\n    </tr>\n  </tbody>\n</table>\n</div>"
     },
     "metadata": {},
     "execution_count": 8
    }
   ],
   "source": [
    "import pandas as pd\n",
    "df = pd.read_csv(\"sysselsattning.csv\", header=1)\n",
    "df"
   ]
  },
  {
   "cell_type": "code",
   "execution_count": 4,
   "metadata": {},
   "outputs": [
    {
     "output_type": "stream",
     "name": "stdout",
     "text": [
      "2706467\n"
     ]
    }
   ],
   "source": [
    "#1a\n",
    "import pandas as pd\n",
    "df = pd.read_csv(\"sysselsattning.csv\", header=1)\n",
    "amount = df[\"2019\"].iloc[0:12].sum()\n",
    "print(amount)"
   ]
  },
  {
   "cell_type": "code",
   "execution_count": 2,
   "metadata": {},
   "outputs": [
    {
     "output_type": "stream",
     "name": "stdout",
     "text": [
      "542118\n"
     ]
    }
   ],
   "source": [
    "#1b\n",
    "import pandas as pd \n",
    "df = pd.read_csv(\"sysselsattning.csv\", header=1)\n",
    "amount = df[\"2019\"].iloc[13:18].sum()\n",
    "print(amount)"
   ]
  },
  {
   "cell_type": "code",
   "execution_count": null,
   "metadata": {},
   "outputs": [],
   "source": [
    "#1c\n",
    "#AHAHAHAHAHAHAH PYPLOT FUNGERAR INTE JAG FAN HATAR DETTA"
   ]
  },
  {
   "cell_type": "code",
   "execution_count": 13,
   "metadata": {},
   "outputs": [
    {
     "output_type": "execute_result",
     "data": {
      "text/plain": [
       "1403500"
      ]
     },
     "metadata": {},
     "execution_count": 13
    }
   ],
   "source": [
    "#2a\n",
    "import pandas as pd\n",
    "df = pd.read_csv(\"sysselsattning.csv\", header=1)\n",
    "sf = df.loc[(df[\"sysselsättning\"] == \"förvärvsarbetande\") & (df[\"kön\"] == \"män\")]\n",
    "sf[\"2019\"].sum()"
   ]
  },
  {
   "cell_type": "code",
   "execution_count": 22,
   "metadata": {},
   "outputs": [
    {
     "output_type": "execute_result",
     "data": {
      "text/plain": [
       "1302967"
      ]
     },
     "metadata": {},
     "execution_count": 22
    }
   ],
   "source": [
    "#2b\n",
    "import pandas as pd\n",
    "df = pd.read_csv(\"sysselsattning.csv\", header=1)\n",
    "sf = df.loc[(df[\"sysselsättning\"] == \"förvärvsarbetande\") & (df[\"kön\"] == \"kvinnor\")]\n",
    "sf[\"2019\"].sum()"
   ]
  },
  {
   "cell_type": "code",
   "execution_count": 23,
   "metadata": {},
   "outputs": [
    {
     "output_type": "execute_result",
     "data": {
      "text/plain": [
       "545813"
      ]
     },
     "metadata": {},
     "execution_count": 23
    }
   ],
   "source": [
    "#2c\n",
    "import pandas as pd\n",
    "df = pd.read_csv(\"sysselsattning.csv\", header=1)\n",
    "sf = df.loc[(df[\"sysselsättning\"] == \"ej förvärvsarbetande\") & (df[\"kön\"] == \"män\")]\n",
    "sf[\"2019\"].sum()"
   ]
  },
  {
   "cell_type": "code",
   "execution_count": 24,
   "metadata": {},
   "outputs": [
    {
     "output_type": "execute_result",
     "data": {
      "text/plain": [
       "545813"
      ]
     },
     "metadata": {},
     "execution_count": 24
    }
   ],
   "source": [
    "#2d\n",
    "import pandas as pd\n",
    "df = pd.read_csv(\"sysselsattning.csv\", header=1)\n",
    "sf = df.loc[(df[\"sysselsättning\"] == \"ej förvärvsarbetande\") & (df[\"kön\"] == \"män\")]\n",
    "sf[\"2019\"].sum()"
   ]
  },
  {
   "cell_type": "code",
   "execution_count": null,
   "metadata": {},
   "outputs": [],
   "source": [
    "#2e FACKA YUOO MATPLOTLIB, Kan inte köra matblotlip pågrund av funny module ERROR AHAHHAHAHAHAH"
   ]
  },
  {
   "cell_type": "code",
   "execution_count": 25,
   "metadata": {},
   "outputs": [
    {
     "output_type": "error",
     "ename": "ModuleNotFoundError",
     "evalue": "No module named 'matplotlib'",
     "traceback": [
      "\u001b[1;31m---------------------------------------------------------------------------\u001b[0m",
      "\u001b[1;31mModuleNotFoundError\u001b[0m                       Traceback (most recent call last)",
      "\u001b[1;32m<ipython-input-25-a0d2faabd9e9>\u001b[0m in \u001b[0;36m<module>\u001b[1;34m\u001b[0m\n\u001b[1;32m----> 1\u001b[1;33m \u001b[1;32mimport\u001b[0m \u001b[0mmatplotlib\u001b[0m\u001b[1;33m.\u001b[0m\u001b[0mpyplot\u001b[0m \u001b[1;32mas\u001b[0m \u001b[0mplt\u001b[0m\u001b[1;33m\u001b[0m\u001b[1;33m\u001b[0m\u001b[0m\n\u001b[0m",
      "\u001b[1;31mModuleNotFoundError\u001b[0m: No module named 'matplotlib'"
     ]
    }
   ],
   "source": [
    "import matplotlib.pyplot as plt"
   ]
  },
  {
   "cell_type": "code",
   "execution_count": null,
   "metadata": {},
   "outputs": [],
   "source": []
  }
 ]
}