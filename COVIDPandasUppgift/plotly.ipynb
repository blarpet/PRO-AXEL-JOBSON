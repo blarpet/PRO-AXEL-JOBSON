{
 "metadata": {
  "language_info": {
   "codemirror_mode": {
    "name": "ipython",
    "version": 3
   },
   "file_extension": ".py",
   "mimetype": "text/x-python",
   "name": "python",
   "nbconvert_exporter": "python",
   "pygments_lexer": "ipython3",
   "version": "3.8.1"
  },
  "orig_nbformat": 2,
  "kernelspec": {
   "name": "python381jvsc74a57bd0acab747f705e2d2d67d7b5f85d0439e6925ec1dbd5d61423de190953ba9f20bb",
   "display_name": "Python 3.8.1 32-bit"
  },
  "metadata": {
   "interpreter": {
    "hash": "acab747f705e2d2d67d7b5f85d0439e6925ec1dbd5d61423de190953ba9f20bb"
   }
  }
 },
 "nbformat": 4,
 "nbformat_minor": 2,
 "cells": [
  {
   "cell_type": "code",
   "execution_count": 4,
   "metadata": {},
   "outputs": [],
   "source": [
    "import plotly.express as px\n",
    "import numpy as np \n",
    "import pandas as pd \n",
    "\n",
    "antal = 10000000\n",
    "\n",
    "tärningar = np.random.randint(1,7,antal) # simulerar antal tärningskast\n",
    "utfall = np.bincount(tärningar)[1:] # beräknar frekvensen\n",
    "\n",
    "# skapat dictionary\n",
    "frekvens = dict(sida = np.arange(1,7), utfall = utfall)\n",
    "#print(frekvens)\n",
    "\n",
    "# skapa dataframe från dictionary\n",
    "df = pd.DataFrame(frekvens)\n",
    "#print(df)\n",
    "\n",
    "# rita ett stapeldiagram\n",
    "\n",
    "fig = px.bar(df, x=\"sida\", y=\"utfall\", title=f\"{antal}st tärningskast med en tärning\")\n",
    "fig.write_html('first_figure.html', auto_open=True)"
   ]
  },
  {
   "cell_type": "code",
   "execution_count": 1,
   "metadata": {},
   "outputs": [
    {
     "output_type": "stream",
     "name": "stdout",
     "text": [
      "g\n"
     ]
    }
   ],
   "source": [
    "print(\"g\")"
   ]
  },
  {
   "cell_type": "code",
   "execution_count": 3,
   "metadata": {},
   "outputs": [],
   "source": [
    "import plotly.express"
   ]
  },
  {
   "cell_type": "code",
   "execution_count": null,
   "metadata": {},
   "outputs": [],
   "source": []
  }
 ]
}