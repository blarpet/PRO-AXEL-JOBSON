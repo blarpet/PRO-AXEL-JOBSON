{
 "metadata": {
  "orig_nbformat": 2,
  "kernelspec": {
   "name": "python3",
   "display_name": "Python 3"
  }
 },
 "nbformat": 4,
 "nbformat_minor": 2,
 "cells": [
  {
   "cell_type": "markdown",
   "metadata": {},
   "source": [
    "# Tyngdkraft \n",
    "\n",
    "* Fråga användaren om sin vikt\n",
    "* Beräkna tyngdkraften \n",
    "\n",
    "$F = mg$\n"
   ]
  },
  {
   "cell_type": "code",
   "execution_count": 4,
   "metadata": {
    "tags": []
   },
   "outputs": [
    {
     "output_type": "stream",
     "name": "stdout",
     "text": "Din tyngdkraft är 19.64N\nDin tyngdkraft är 19.64 N\n"
    }
   ],
   "source": [
    "# skapar en variabel g och tilldelar det värdet 9.82\n",
    "g = 9.82\n",
    "\n",
    "# input ger oss en sträng, float typomvandlar den till flyttal\n",
    "m = float(input(\"Hur mycket väger du? \"))\n",
    "\n",
    "F = m*g # 599.02\n",
    "\n",
    "print(f\"Din tyngdkraft är {F}N\") #f-string \n",
    "print(\"Din tyngdkraft är\",F,\"N\") "
   ]
  },
  {
   "cell_type": "markdown",
   "metadata": {},
   "source": [
    "# Procent\n",
    "\n",
    "* Fråga användaren om ett decimaltal\n",
    "* Omvandla talet till procent\n"
   ]
  },
  {
   "cell_type": "code",
   "execution_count": 7,
   "metadata": {
    "tags": []
   },
   "outputs": [
    {
     "output_type": "stream",
     "name": "stdout",
     "text": "0.2 = 20%\n0.2 = 20 %\n"
    }
   ],
   "source": [
    "decimalTal = float(input(\"Ange ett decimaltal: \"))\n",
    "procent = decimalTal*100\n",
    "\n",
    "print(f\"{decimalTal} = {procent:.0f}%\")\n",
    "print(decimalTal,\"=\",round(procent),\"%\")"
   ]
  },
  {
   "cell_type": "markdown",
   "metadata": {},
   "source": [
    "# K $\\rightarrow$ °C\n",
    "\n",
    "* Fråga användaren att ange temperaturen i Kelvin och omvandla till °C"
   ]
  },
  {
   "cell_type": "code",
   "execution_count": 8,
   "metadata": {
    "tags": []
   },
   "outputs": [
    {
     "output_type": "stream",
     "name": "stdout",
     "text": "-271.15 grader celsius = 2.0 Kelvin\n-271.15 grader celsius 2 Kelvin\n"
    }
   ],
   "source": [
    "k = float(input(\"Ange antal Kelvin: \"))\n",
    "g = k-273.15\n",
    "\n",
    "print(f\"{g} grader celsius = {k} Kelvin\")\n",
    "print(g, \"grader celsius\", round(k), \"Kelvin\")"
   ]
  },
  {
   "cell_type": "markdown",
   "metadata": {},
   "source": [
    "# °C $\\rightarrow$ K\n",
    "* Fråga användaren att ange temperaturen i Kelvin och omvandla till °C"
   ]
  },
  {
   "cell_type": "code",
   "execution_count": 12,
   "metadata": {
    "tags": []
   },
   "outputs": [
    {
     "output_type": "stream",
     "name": "stdout",
     "text": "2.0 grader celsius = -271.15 Kelvin\n2.0 grader celsius -271 Kelvin\n"
    }
   ],
   "source": [
    "k = float(input(\"Ange antal Kelvin: \"))\n",
    "g = k-273.15\n",
    "\n",
    "print(f\"{k} grader celsius = {g} Kelvin\")\n",
    "print(k, \"grader celsius\", round(g), \"Kelvin\")"
   ]
  },
  {
   "cell_type": "markdown",
   "metadata": {},
   "source": [
    "# Västtrafik \n",
    "\n",
    "Engångsbiljett - 30kr <br>\n",
    "månadskort - 775kr\n",
    "\n",
    "Fråga användaren hur många gånger hen åker med västtrafik. Beräkna totala kostnaden om användaren betalar med engångsbiljetter. \n",
    "\n",
    "Bonus: utöka programmet för att ta reda på om det är värt att köpa månadskort eller inte."
   ]
  },
  {
   "cell_type": "code",
   "execution_count": 29,
   "metadata": {
    "tags": []
   },
   "outputs": [
    {
     "output_type": "stream",
     "name": "stdout",
     "text": "Det kommer kosta 810.0 kr varje månad om du köper bara med engångsbiljetter.\nJag rekomenderar månadskort.\n"
    }
   ],
   "source": [
    "r = float(input(\"Hur ofta använder du våran transport varje månad? \"))\n",
    "k = 30*r\n",
    "print(f\"Det kommer kosta {k} kr varje månad om du köper bara med engångsbiljetter.\")\n",
    "if k > 775:\n",
    "    print(\"Jag rekomenderar månadskort.\")\n",
    "else:\n",
    "    print(\"Jag rekomenderar inte månadskort.\")"
   ]
  },
  {
   "cell_type": "code",
   "execution_count": null,
   "metadata": {},
   "outputs": [],
   "source": []
  }
 ]
}