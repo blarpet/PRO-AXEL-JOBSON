{
 "metadata": {
  "language_info": {
   "codemirror_mode": {
    "name": "ipython",
    "version": 3
   },
   "file_extension": ".py",
   "mimetype": "text/x-python",
   "name": "python",
   "nbconvert_exporter": "python",
   "pygments_lexer": "ipython3",
   "version": "3.8.3-final"
  },
  "orig_nbformat": 2,
  "kernelspec": {
   "name": "Python 3.8.3 64-bit ('base': conda)",
   "display_name": "Python 3.8.3 64-bit ('base': conda)",
   "metadata": {
    "interpreter": {
     "hash": "e64f03b2c214f36c8a0d0471c50d2a9adb953d3117efb41f355fd5cfa2269424"
    }
   }
  }
 },
 "nbformat": 4,
 "nbformat_minor": 2,
 "cells": [
  {
   "cell_type": "code",
   "execution_count": 6,
   "metadata": {
    "tags": []
   },
   "outputs": [
    {
     "output_type": "stream",
     "name": "stdout",
     "text": "0.7071067811865476\n"
    }
   ],
   "source": [
    "import math \n",
    "\n",
    "math.sqrt(0.5**2+0.5**2) "
   ]
  },
  {
   "cell_type": "code",
   "execution_count": 7,
   "metadata": {
    "tags": []
   },
   "outputs": [
    {
     "output_type": "execute_result",
     "data": {
      "text/plain": [
       "1.4142135623730951"
      ]
     },
     "metadata": {},
     "execution_count": 7
    }
   ],
   "source": [
    "import math \n",
    "\n",
    "math.sqrt(1**2+1**2) "
   ]
  },
  {
   "cell_type": "code",
   "execution_count": 16,
   "metadata": {
    "tags": []
   },
   "outputs": [
    {
     "output_type": "error",
     "ename": "SyntaxError",
     "evalue": "cannot assign to operator (<ipython-input-16-e559b1ca57d9>, line 3)",
     "traceback": [
      "\u001b[1;36m  File \u001b[1;32m\"<ipython-input-16-e559b1ca57d9>\"\u001b[1;36m, line \u001b[1;32m3\u001b[0m\n\u001b[1;33m    0.5**2=tal1\u001b[0m\n\u001b[1;37m    ^\u001b[0m\n\u001b[1;31mSyntaxError\u001b[0m\u001b[1;31m:\u001b[0m cannot assign to operator\n"
     ]
    }
   ],
   "source": [
    "import math \n",
    "\n",
    "math.sqrt(0.5**2 + -0.5**2) "
   ]
  },
  {
   "cell_type": "code",
   "execution_count": 27,
   "metadata": {
    "tags": []
   },
   "outputs": [
    {
     "output_type": "stream",
     "name": "stdout",
     "text": [
      "-0.685115175009632 0.08481971824139611 -0.40031876083057316 0.18309761670844105 0.06783198861360984 0.13829532512641207 -0.63619521366408\n"
     ]
    }
   ],
   "source": [
    "import random\n",
    "dot1 = random.uniform(-1,1) #hehe funny random koordinat 1 mellan -1 till 1\n",
    "dot2 = random.uniform(-1,1) #hehe funny random koordinat 2 mellan -1 till 1\n",
    "dot3 = random.uniform(-1,1) #hehe funny random koordinat 3 mellan -1 till 1\n",
    "dot4 = random.uniform(-1,1) #hehe funny random koordinat 4 mellan -1 till 1\n",
    "dot5 = random.uniform(-1,1) #hehe funny random koordinat 5 mellan -1 till 1\n",
    "dot6 = random.uniform(-1,1) #hehe funny random koordinat 6 mellan -1 till 1\n",
    "dot7 = random.uniform(-1,1) #hehe funny random koordinat 7 mellan -1 till 1\n",
    "print(dot1, dot2, dot3, dot4, dot5, dot6, dot7)\n",
    "\n",
    "\n",
    "\n"
   ]
  },
  {
   "cell_type": "code",
   "execution_count": 28,
   "metadata": {},
   "outputs": [
    {
     "output_type": "execute_result",
     "data": {
      "text/plain": [
       "1.2379418403139948"
      ]
     },
     "metadata": {},
     "execution_count": 28
    }
   ],
   "source": [
    "import math \n",
    "\n",
    "math.sqrt(0.85**2+0.9**2) "
   ]
  },
  {
   "cell_type": "code",
   "execution_count": 1,
   "metadata": {},
   "outputs": [
    {
     "output_type": "execute_result",
     "data": {
      "text/plain": [
       "0.7071067811865476"
      ]
     },
     "metadata": {},
     "execution_count": 1
    }
   ],
   "source": [
    "import math \n",
    "\n",
    "math.sqrt(0.5**2+0.5**2) "
   ]
  },
  {
   "cell_type": "code",
   "execution_count": null,
   "metadata": {},
   "outputs": [],
   "source": []
  }
 ]
}