{
 "metadata": {
  "language_info": {
   "codemirror_mode": {
    "name": "ipython",
    "version": 3
   },
   "file_extension": ".py",
   "mimetype": "text/x-python",
   "name": "python",
   "nbconvert_exporter": "python",
   "pygments_lexer": "ipython3",
   "version": "3.8.3-final"
  },
  "orig_nbformat": 2,
  "kernelspec": {
   "name": "Python 3.8.3 64-bit ('base': conda)",
   "display_name": "Python 3.8.3 64-bit ('base': conda)",
   "metadata": {
    "interpreter": {
     "hash": "e64f03b2c214f36c8a0d0471c50d2a9adb953d3117efb41f355fd5cfa2269424"
    }
   }
  }
 },
 "nbformat": 4,
 "nbformat_minor": 2,
 "cells": [
  {
   "cell_type": "code",
   "execution_count": 6,
   "metadata": {
    "tags": []
   },
   "outputs": [
    {
     "output_type": "stream",
     "name": "stdout",
     "text": "0.7071067811865476\n"
    }
   ],
   "source": [
    "import math\n",
    "\n",
    "dot1 = [0, 0]\n",
    "dot2 = [0.5, 0.5]\n",
    "distance = math.sqrt( ((dot1[0]-dot2[0])**2)+((dot1[1]-dot2[1])**2) )\n",
    "\n",
    "print(distance)"
   ]
  },
  {
   "cell_type": "code",
   "execution_count": 15,
   "metadata": {
    "tags": []
   },
   "outputs": [
    {
     "output_type": "stream",
     "name": "stdout",
     "text": "1.4142135623730951\n"
    }
   ],
   "source": [
    "import math\n",
    "\n",
    "dot1 = [0, 0]\n",
    "dot2 = [1, 1]\n",
    "distance = math.sqrt( ((dot1[0]-dot2[0])**2)+((dot1[1]-dot2[1])**2) )\n",
    "\n",
    "print(distance)"
   ]
  },
  {
   "cell_type": "code",
   "execution_count": 16,
   "metadata": {
    "tags": []
   },
   "outputs": [
    {
     "output_type": "stream",
     "name": "stdout",
     "text": "0.7071067811865476\n"
    }
   ],
   "source": [
    "import math\n",
    "\n",
    "dot1 = [0, 0]\n",
    "dot2 = [0.5, -0.5]\n",
    "distance = math.sqrt( ((dot1[0]-dot2[0])**2)+((dot1[1]-dot2[1])**2) )\n",
    "\n",
    "print(distance)"
   ]
  },
  {
   "cell_type": "code",
   "execution_count": 20,
   "metadata": {
    "tags": []
   },
   "outputs": [
    {
     "output_type": "stream",
     "name": "stdout",
     "text": "-0.41191657859954267 -0.7554294832819006\n"
    }
   ],
   "source": [
    "import random\n",
    "dot1 = random.uniform(-1,1)\n",
    "dot2 = random.uniform(-1,1)\n",
    "print(dot1, dot2)\n",
    "\n",
    "\n",
    "\n"
   ]
  },
  {
   "cell_type": "code",
   "execution_count": null,
   "metadata": {},
   "outputs": [],
   "source": []
  }
 ]
}