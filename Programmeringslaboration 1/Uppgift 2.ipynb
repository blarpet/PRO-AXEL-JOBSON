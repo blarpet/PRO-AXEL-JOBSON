{
 "metadata": {
  "language_info": {
   "codemirror_mode": {
    "name": "ipython",
    "version": 3
   },
   "file_extension": ".py",
   "mimetype": "text/x-python",
   "name": "python",
   "nbconvert_exporter": "python",
   "pygments_lexer": "ipython3",
   "version": "3.7.3-final"
  },
  "orig_nbformat": 2,
  "kernelspec": {
   "name": "Python 3.7.3 32-bit",
   "display_name": "Python 3.7.3 32-bit",
   "metadata": {
    "interpreter": {
     "hash": "d1bb9831e6c930bd0a1ae8bd3aaa37e1b7a7ff6f2c216da3a0736498f4ab6204"
    }
   }
  }
 },
 "nbformat": 4,
 "nbformat_minor": 2,
 "cells": [
  {
   "cell_type": "code",
   "execution_count": 11,
   "metadata": {},
   "outputs": [
    {
     "output_type": "stream",
     "name": "stdout",
     "text": [
      "0\n1\n2\n3\n4\n5\n6\n7\n8\n9\n10\n11\n12\n13\n14\n15\n16\n17\n18\n19\n20\n21\n22\n23\n24\n25\n26\n27\n28\n29\n30\n31\n32\n33\n34\n35\n36\n37\n38\n39\n40\n41\n42\n43\n44\n45\n46\n47\n48\n49\n50\n51\n52\n53\n54\n55\n56\n57\n58\n59\n60\n61\n62\n63\n64\n65\n66\n67\n68\n69\n70\n71\n72\n73\n74\n75\n76\n77\n78\n79\n80\n81\n82\n83\n84\n85\n86\n87\n88\n89\n90\n91\n92\n93\n94\n95\n96\n97\n98\n99\n100\n"
     ]
    }
   ],
   "source": [
    "for i in range(101): #Printar en lista på 100 nummer.\n",
    "\n",
    "    print(f\"{i}\") #Printar ut listan.."
   ]
  },
  {
   "cell_type": "code",
   "execution_count": 28,
   "metadata": {},
   "outputs": [
    {
     "output_type": "stream",
     "name": "stdout",
     "text": [
      "Burr\n1\n2\n3\n4\nBurr\n6\n7\n8\n9\nBurr\n11\n12\n13\n14\nBurr\n16\n17\n18\n19\nBurr\n21\n22\n23\n24\nBurr\n26\n27\n28\n29\nBurr\n31\n32\n33\n34\nBurr\n36\n37\n38\n39\nBurr\n41\n42\n43\n44\nBurr\n46\n47\n48\n49\nBurr\n"
     ]
    }
   ],
   "source": [
    "#Gör en lista av 50 och sedan ser vilka av de tal är delbara med 5. Om de är delbara så printas order burr istället för nummret och sedan fortsätter. Om det inte är delbart forsätter allt som vanligt.\n",
    "for i in range(51):\n",
    "    if i%5==0:\n",
    "        print(\"Burr\") \n",
    "        continue\n",
    "\n",
    "    print(f\"{i}\") #Printar ut listan."
   ]
  },
  {
   "cell_type": "code",
   "execution_count": 32,
   "metadata": {},
   "outputs": [
    {
     "output_type": "stream",
     "name": "stdout",
     "text": [
      "1\n2\n3\n4\n5\n6\n7\n8\n9\nBurr\n11\n12\n13\n14\n15\n16\n17\n18\n19\nBurr\n21\n22\n23\n24\n25\n26\n27\n28\n29\nBurr\n31\n32\n33\n34\n35\n36\n37\n38\n39\nBurr\n41\n42\n43\n44\n45\n46\n47\n48\n49\nBurr\n51\n52\n53\n54\n55\n56\n57\n58\n59\nBurr\n61\n62\n63\n64\n65\n66\n67\n68\n69\nBurr\n71\n72\n73\n74\n75\n76\n77\n78\n79\nBurr\n81\n82\n83\n84\n85\n86\n87\n88\n89\nBurr\n91\n92\n93\n94\n95\n96\n97\n98\n99\n"
     ]
    }
   ],
   "source": [
    "\n",
    "tal = int(input(\"Ange ett tal att multiplera: \"))\n",
    "#Ser till om ett tal inom variablen tal kan bli delad på burr. Om den är delbar så printar den burr istället och sedan fortsätter.\n",
    "for i in range(1,101):\n",
    "        if i%tal==0:\n",
    "            print(\"Burr\")\n",
    "            continue\n",
    "        print(f\"{i}\") #Printar ut listan."
   ]
  },
  {
   "cell_type": "code",
   "execution_count": 38,
   "metadata": {},
   "outputs": [
    {
     "output_type": "stream",
     "name": "stdout",
     "text": [
      "1\n2\nBurr\n4\nBirr\nBurr\n7\n8\nBurr\nBirr\n11\nBurr\n13\n14\nBurr\n16\n17\nBurr\n19\nBirr\nBurr\n22\n23\nBurr\nBirr\n26\nBurr\n28\n29\nBurr\n31\n32\nBurr\n34\nBirr\nBurr\n37\n38\nBurr\nBirr\n41\nBurr\n43\n44\nBurr\n46\n47\nBurr\n49\nBirr\nBurr\n52\n53\nBurr\nBirr\n56\nBurr\n58\n59\nBurr\n61\n62\nBurr\n64\nBirr\nBurr\n67\n68\nBurr\nBirr\n71\nBurr\n73\n74\nBurr\n76\n77\nBurr\n79\nBirr\nBurr\n82\n83\nBurr\nBirr\n86\nBurr\n88\n89\nBurr\n91\n92\nBurr\n94\nBirr\nBurr\n97\n98\nBurr\nBirr\n"
     ]
    }
   ],
   "source": [
    "#Skapar inputs från användaren.\n",
    "burr = int(input(\"Ange ett burr tal: \"))\n",
    "birr = int(input(\"Ange ett birr tal: \"))\n",
    "#Ser till om ett tal inom variablen I kan bli delad på burr eller birr. Om den är delbar så printar den burr eller birr istället och sedan fortsätter.\n",
    "for i in range(1,101):\n",
    "    if i%burr==0:\n",
    "        print(\"Burr\")\n",
    "        continue\n",
    "    if i%birr==0:\n",
    "        print(\"Birr\")\n",
    "        continue\n",
    "    print(f\"{i}\") #Printar ut listan.\n"
   ]
  },
  {
   "cell_type": "code",
   "execution_count": 43,
   "metadata": {},
   "outputs": [
    {
     "output_type": "stream",
     "name": "stdout",
     "text": [
      "1\n2\n3\n4\nBurr\n6\n7\n8\n9\nBurr\nAntal burr i listan: 2. Antal birr i listan: 0.Antal burr och birr i tabellen: 2.\n"
     ]
    }
   ],
   "source": [
    "#Gör tomma listor för burr, birr och burrbirr.\n",
    "burrlist = []\n",
    "birrlist = []\n",
    "burrbirrlist = []\n",
    "\n",
    "#Frågar efter input för variabler.\n",
    "burr = int(input(\"Ange ett tal för burr: \"))\n",
    "birr = int(input(\"Ange ett tal för birr: \"))\n",
    "start = int(input(\"Var vill du att det ska börja: \"))\n",
    "slut = int(input(\"Var vill du att det ska sluta: \"))\n",
    "\n",
    "#Skapar en lista för alla tal och sedan ser om de är delbara med burr eller birr variablen. Om de är delbara så lägs det till i burr/birr listan och printar ut ett burr/birr och fortsäter. \n",
    "for i in range(start,slut+1):\n",
    "    if i%burr==0:\n",
    "        print(\"Burr\")\n",
    "        burrlist.append(\"i\")\n",
    "        burrbirrlist.append(\"i\")\n",
    "        continue\n",
    "    elif i%birr==0:\n",
    "        print(\"Birr\")\n",
    "        birrlist.append(\"i\")\n",
    "        burrbirrlist.append(\"i\")\n",
    "        continue\n",
    "    elif i%birr==0 and i%burr==0:\n",
    "        print(\"Birr och Burr\")\n",
    "        burrlist.append(\"i\")\n",
    "        birrlist.append(\"i\")\n",
    "        burrbirrlist.append(\"i\")\n",
    "        burrbirrlist.append(\"i\")\n",
    "        continue\n",
    "    #Skriver ut alla nummer och sedan beräknar hur många burr, birr och burrbirr som har sagts. Byter också variable för det för att jag gillar korta variabler.\n",
    "    print(f\"{i}\")\n",
    "x = len(burrlist)\n",
    "y = len(birrlist)\n",
    "z = len(burrbirrlist)\n",
    "\n",
    "#Skriver ut hur många burr, birr och burrbirr som sagts. \n",
    "print( \"Antal burr i listan: \" f\"{x}\"\". Antal birr i listan: \" f\"{y}\" \".\" \"Antal burr och birr i tabellen: \" f\"{z}\" \".\" )"
   ]
  },
  {
   "cell_type": "code",
   "execution_count": null,
   "metadata": {},
   "outputs": [],
   "source": []
  }
 ]
}