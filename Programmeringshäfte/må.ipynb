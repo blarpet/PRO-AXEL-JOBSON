{
 "metadata": {
  "language_info": {
   "codemirror_mode": {
    "name": "ipython",
    "version": 3
   },
   "file_extension": ".py",
   "mimetype": "text/x-python",
   "name": "python",
   "nbconvert_exporter": "python",
   "pygments_lexer": "ipython3",
   "version": 3
  },
  "orig_nbformat": 2
 },
 "nbformat": 4,
 "nbformat_minor": 2,
 "cells": [
  {
   "cell_type": "code",
   "execution_count": null,
   "metadata": {},
   "outputs": [],
   "source": [
    "myBalls = {\n",
    "    \"Matematik 3c\": 100,\n",
    "    \"Idrott och Häsla\" : 100,\n",
    "    \"Engelska 6\" : 100,\n",
    "    \"Programmering 1\": 100,\n",
    "    \"Svenska 2\" : 100,\n",
    "    \"Fysik 1a\" : 100,\n",
    "    \"Webbutveckling 1\" : 100,\n",
    "    \"Tillämpad programmering\" : 100,\n",
    "    \"Dator- och nätverksteknik\" : 100\n",
    "    }\n",
    "print(myBalls[\"Matematik 3c\"])"
   ]
  },
  {
   "cell_type": "code",
   "execution_count": null,
   "metadata": {},
   "outputs": [],
   "source": []
  }
 ]
}