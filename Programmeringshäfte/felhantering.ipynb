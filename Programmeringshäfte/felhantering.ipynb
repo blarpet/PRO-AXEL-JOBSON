{
 "metadata": {
  "language_info": {
   "codemirror_mode": {
    "name": "ipython",
    "version": 3
   },
   "file_extension": ".py",
   "mimetype": "text/x-python",
   "name": "python",
   "nbconvert_exporter": "python",
   "pygments_lexer": "ipython3",
   "version": "3.8.1-final"
  },
  "orig_nbformat": 2,
  "kernelspec": {
   "name": "python3",
   "display_name": "Python 3.8.1 32-bit",
   "metadata": {
    "interpreter": {
     "hash": "acab747f705e2d2d67d7b5f85d0439e6925ec1dbd5d61423de190953ba9f20bb"
    }
   }
  }
 },
 "nbformat": 4,
 "nbformat_minor": 2,
 "cells": [
  {
   "source": [
    "import numpy as np\n",
    "def distance(p1, p2):\n",
    "    return np.sqrt(p1+p2)\n",
    "print(distance(0.5,0.5))"
   ],
   "cell_type": "code",
   "metadata": {},
   "execution_count": null,
   "outputs": []
  },
  {
   "cell_type": "code",
   "execution_count": 12,
   "metadata": {},
   "outputs": [
    {
     "output_type": "stream",
     "name": "stdout",
     "text": [
      "100 är inte fyrsiffrigt\n231 är inte fyrsiffrigt\n10000 är inte fyrsiffrigt\n10001 är inte fyrsiffrigt\n-1000 är fyrsiffrigt\n102313 är inte fyrsiffrigt\n"
     ]
    }
   ],
   "source": [
    "def ar_fyrrsiffrigt(tal):\n",
    "    if tal/100 > tal/10: \n",
    "        return True\n",
    "    else:\n",
    "        return False\n",
    "\n",
    "testtal = [100, 231, 10000, 10001, -1000, 102313]\n",
    "\n",
    "for t in testtal:\n",
    "    if ar_fyrrsiffrigt(t):\n",
    "        print(f\"{t} är fyrsiffrigt\")\n",
    "    else:\n",
    "        print(f\"{t} är inte fyrsiffrigt\")"
   ]
  },
  {
   "cell_type": "code",
   "execution_count": 4,
   "metadata": {},
   "outputs": [
    {
     "output_type": "stream",
     "name": "stdout",
     "text": [
      "Men bete dig nu, du skall ange ett heltal!\n",
      "Men bete dig nu, du skall ange ett heltal!\n",
      "Men bete dig nu, du skall ange ett heltal!\n",
      "Du borde köpa Engångsbiljett för 20 kr styck\n"
     ]
    }
   ],
   "source": [
    "#Månadsskort: 100 kr per månad\n",
    "#Engångsbiljett: 20 kr \n",
    "\n",
    "def samhället(amount):\n",
    "    if amount > 5:\n",
    "        print(\"Du borde köpa ett Månadsskort för 100 kr\")\n",
    "    elif amount < 5:\n",
    "        print(\"Du borde köpa Engångsbiljett för 20 kr styck\")\n",
    "    elif amount == 5:\n",
    "        print(\"Det spelar inte verken roll om du köper Engångsbiljett eller Månadsskort\")\n",
    "\n",
    "while True:\n",
    "    try:\n",
    "        amount = int(input(\"Hur många gånger vill du åka spårvagn per månad?\"))\n",
    "        samhället(amount)\n",
    "        break\n",
    "    except ValueError:\n",
    "        print(\"Men bete dig nu, du skall ange ett heltal!\")\n"
   ]
  },
  {
   "cell_type": "code",
   "execution_count": 13,
   "metadata": {},
   "outputs": [
    {
     "output_type": "stream",
     "name": "stdout",
     "text": [
      "[2, 5, 4, 1, 3]\n[1, 2, 3, 4, 5]\n5\n1\n3.0\n3\n"
     ]
    }
   ],
   "source": [
    "#Inte klar\n",
    "\n",
    "amountNumbers = 0\n",
    "numberList = []\n",
    "\n",
    "while amountNumbers < 5:\n",
    "    numbers = int(input(\"Ange ett nummer!\"))\n",
    "    numberList.append(numbers)\n",
    "    amountNumbers += 1\n",
    "\n",
    "print(numberList)\n",
    "\n",
    "\n",
    "largestValue = max(numberList)\n",
    "smallestValue = min(numberList)\n",
    "averageValue = sum(numberList) / len(numberList)\n",
    "numberList.sort()\n",
    "medianValue = numberList[2]\n",
    "\n",
    "print(numberList)\n",
    "print(largestValue)\n",
    "print(smallestValue)\n",
    "print(averageValue)\n",
    "print(medianValue)"
   ]
  },
  {
   "cell_type": "code",
   "execution_count": null,
   "metadata": {},
   "outputs": [],
   "source": []
  }
 ]
}