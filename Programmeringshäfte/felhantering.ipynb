{
 "metadata": {
  "language_info": {
   "codemirror_mode": {
    "name": "ipython",
    "version": 3
   },
   "file_extension": ".py",
   "mimetype": "text/x-python",
   "name": "python",
   "nbconvert_exporter": "python",
   "pygments_lexer": "ipython3",
   "version": "3.8.1-final"
  },
  "orig_nbformat": 2,
  "kernelspec": {
   "name": "python3",
   "display_name": "Python 3.8.1 32-bit",
   "metadata": {
    "interpreter": {
     "hash": "acab747f705e2d2d67d7b5f85d0439e6925ec1dbd5d61423de190953ba9f20bb"
    }
   }
  }
 },
 "nbformat": 4,
 "nbformat_minor": 2,
 "cells": [
  {
   "source": [
    "import numpy as np\n",
    "def distance(p1, p2):\n",
    "    return np.sqrt(p1+p2)\n",
    "print(distance(0.5,0.5))"
   ],
   "cell_type": "code",
   "metadata": {},
   "execution_count": null,
   "outputs": []
  },
  {
   "cell_type": "code",
   "execution_count": 12,
   "metadata": {},
   "outputs": [
    {
     "output_type": "stream",
     "name": "stdout",
     "text": [
      "100 är inte fyrsiffrigt\n231 är inte fyrsiffrigt\n10000 är inte fyrsiffrigt\n10001 är inte fyrsiffrigt\n-1000 är fyrsiffrigt\n102313 är inte fyrsiffrigt\n"
     ]
    }
   ],
   "source": [
    "def ar_fyrrsiffrigt(tal):\n",
    "    if tal/100 > tal/10: \n",
    "        return True\n",
    "    else:\n",
    "        return False\n",
    "\n",
    "testtal = [100, 231, 10000, 10001, -1000, 102313]\n",
    "\n",
    "for t in testtal:\n",
    "    if ar_fyrrsiffrigt(t):\n",
    "        print(f\"{t} är fyrsiffrigt\")\n",
    "    else:\n",
    "        print(f\"{t} är inte fyrsiffrigt\")"
   ]
  },
  {
   "cell_type": "code",
   "execution_count": 18,
   "metadata": {},
   "outputs": [
    {
     "output_type": "stream",
     "name": "stdout",
     "text": [
      "Du måste ange ett heltal!\n",
      "Du måste ange ett heltal!\n",
      "Månadskort kostar 100 kr\n",
      "Din totala kostnad är 0 kr\n",
      "Du känar genom att köpa engångsbiljett.\n"
     ]
    }
   ],
   "source": [
    "def ekonomi(åktur):\n",
    "    #Månadsskort: 100 kr per månad\n",
    "    #Engångsbiljett: 20 kr \n",
    "    kort = 100\n",
    "    biljett = 20\n",
    "    \n",
    "    kostnad = åktur * biljett\n",
    "    \n",
    "    if kostnad > kort:\n",
    "        print(\"Månadskort kostar\", kort, \"kr\")\n",
    "        print(\"Din totala kostnad är\", kostnad, \"kr\")\n",
    "        print(\"Du tjänar genom att köpa månadsskort.\")\n",
    "    elif:\n",
    "        print(\"Månadskort kostar\", kort, \"kr\")\n",
    "        print(\"Din totala kostnad är\", kostnad, \"kr\")\n",
    "        print(\"Du känar genom att köpa engångsbiljett.\")\n",
    "\n",
    "while True:\n",
    "    try:\n",
    "        åktur = int(input(\"Ange hur många gånger du har åkt spårvagn: \"))\n",
    "        ekonomi(åktur)\n",
    "        break\n",
    "    except ValueError:\n",
    "        print(\"Du måste ange ett heltal!\")"
   ]
  },
  {
   "cell_type": "code",
   "execution_count": 19,
   "metadata": {},
   "outputs": [
    {
     "output_type": "stream",
     "name": "stdout",
     "text": [
      "Men bete dig nu, du skall ange ett heltal!\n"
     ]
    },
    {
     "output_type": "error",
     "ename": "NameError",
     "evalue": "name 'amount' is not defined",
     "traceback": [
      "\u001b[1;31m---------------------------------------------------------------------------\u001b[0m",
      "\u001b[1;31mNameError\u001b[0m                                 Traceback (most recent call last)",
      "\u001b[1;32m<ipython-input-19-3539d9e3fbf2>\u001b[0m in \u001b[0;36m<module>\u001b[1;34m\u001b[0m\n\u001b[0;32m      7\u001b[0m     \u001b[0mprint\u001b[0m\u001b[1;33m(\u001b[0m\u001b[1;34m\"Men bete dig nu, du skall ange ett heltal!\"\u001b[0m\u001b[1;33m)\u001b[0m\u001b[1;33m\u001b[0m\u001b[1;33m\u001b[0m\u001b[0m\n\u001b[0;32m      8\u001b[0m \u001b[1;33m\u001b[0m\u001b[0m\n\u001b[1;32m----> 9\u001b[1;33m \u001b[1;32mif\u001b[0m \u001b[0mamount\u001b[0m \u001b[1;33m>\u001b[0m \u001b[1;36m5\u001b[0m\u001b[1;33m:\u001b[0m\u001b[1;33m\u001b[0m\u001b[1;33m\u001b[0m\u001b[0m\n\u001b[0m\u001b[0;32m     10\u001b[0m     \u001b[0mprint\u001b[0m\u001b[1;33m(\u001b[0m\u001b[1;34m\"Du borde köpa ett månadskort för 100 kr\"\u001b[0m\u001b[1;33m)\u001b[0m\u001b[1;33m\u001b[0m\u001b[1;33m\u001b[0m\u001b[0m\n\u001b[0;32m     11\u001b[0m \u001b[1;32melif\u001b[0m \u001b[0mamount\u001b[0m \u001b[1;33m<\u001b[0m \u001b[1;36m5\u001b[0m\u001b[1;33m:\u001b[0m\u001b[1;33m\u001b[0m\u001b[1;33m\u001b[0m\u001b[0m\n",
      "\u001b[1;31mNameError\u001b[0m: name 'amount' is not defined"
     ]
    }
   ],
   "source": [
    "#Månadsskort: 100 kr per månad\n",
    "#Engångsbiljett: 20 kr \n",
    "\n",
    "def samhället(amount):\n",
    "    if amount > 5:\n",
    "        print(\"Du borde köpa ett månadskort för 100 kr\")\n",
    "    elif amount < 5:\n",
    "        print(\"Du borde köpa engångskort för 20 kr styck\")\n",
    "    elif amount == 5:\n",
    "        print(\"Det spelar inte verken roll om du köper engångskort eller månadskort\")\n",
    "\n",
    "while True:\n",
    "    try:\n",
    "        amount = int(input(\"Hur många gånger vill du åka spårvagn per månad?\"))\n",
    "        samhället(amount)\n",
    "        break\n",
    "    except ValueError:\n",
    "        print(\"Men bete dig nu, du skall ange ett heltal!\")\n"
   ]
  },
  {
   "cell_type": "code",
   "execution_count": null,
   "metadata": {},
   "outputs": [],
   "source": []
  }
 ]
}