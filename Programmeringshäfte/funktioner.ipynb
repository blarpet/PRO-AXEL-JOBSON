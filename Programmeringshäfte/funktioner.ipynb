{
 "metadata": {
  "language_info": {
   "codemirror_mode": {
    "name": "ipython",
    "version": 3
   },
   "file_extension": ".py",
   "mimetype": "text/x-python",
   "name": "python",
   "nbconvert_exporter": "python",
   "pygments_lexer": "ipython3",
   "version": "3.8.1-final"
  },
  "orig_nbformat": 2,
  "kernelspec": {
   "name": "python3",
   "display_name": "Python 3.8.1 32-bit",
   "metadata": {
    "interpreter": {
     "hash": "acab747f705e2d2d67d7b5f85d0439e6925ec1dbd5d61423de190953ba9f20bb"
    }
   }
  }
 },
 "nbformat": 4,
 "nbformat_minor": 2,
 "cells": [
  {
   "cell_type": "code",
   "execution_count": 10,
   "metadata": {},
   "outputs": [
    {
     "output_type": "stream",
     "name": "stdout",
     "text": [
      "55.0\n"
     ]
    }
   ],
   "source": [
    "#Uppgift 1a\n",
    "def aritmetisk(a1,an,n):\n",
    "    arit = n*(a1+an)/2\n",
    "    return arit\n",
    "summa = aritmetisk(1,10,10)\n",
    "print(summa)"
   ]
  },
  {
   "cell_type": "code",
   "execution_count": 2,
   "metadata": {},
   "outputs": [
    {
     "output_type": "stream",
     "name": "stdout",
     "text": [
      "5050.0\n"
     ]
    }
   ],
   "source": [
    "#Uppgift 1b\n",
    "\n",
    "def aritmetisk(a1,an,n):\n",
    "    arit = n*(a1+an)/2\n",
    "    return arit\n",
    "summa = aritmetisk(1,100,100)\n",
    "print(summa)"
   ]
  },
  {
   "cell_type": "code",
   "execution_count": 2,
   "metadata": {},
   "outputs": [
    {
     "output_type": "stream",
     "name": "stdout",
     "text": [
      "5050.0\n"
     ]
    }
   ],
   "source": [
    "#Uppgift 1c\n",
    "\n",
    "def aritmetisk(a1,an,n):\n",
    "    a1 = int(input(\"Ange a1:\"))\n",
    "    an = int(input(\"Ange an:\"))\n",
    "    n = int(input(\"Ange n:\"))\n",
    "    arit = n*(a1+an)/2\n",
    "    return arit\n",
    "summa = aritmetisk(1,100,100)\n",
    "print(summa)"
   ]
  },
  {
   "cell_type": "code",
   "execution_count": 33,
   "metadata": {},
   "outputs": [
    {
     "output_type": "stream",
     "name": "stdout",
     "text": [
      "Ditt resultat är: 3156\n"
     ]
    }
   ],
   "source": [
    "#Uppgift 2a\n",
    "\n",
    "def aritmetisk(n):\n",
    "    s = 0\n",
    "    while n < 1000:\n",
    "        n = 2*n\n",
    "        s += n+1\n",
    "    print(f\"Ditt resultat är: {s}\")\n",
    "\n",
    "n = int(input(\"Bestäm värdet för : n\"))\n",
    "\n",
    "aritmetisk(n)"
   ]
  },
  {
   "cell_type": "code",
   "execution_count": 40,
   "metadata": {},
   "outputs": [
    {
     "output_type": "stream",
     "name": "stdout",
     "text": [
      "Ditt resultat är: 3006\n"
     ]
    }
   ],
   "source": [
    "#Uppgift 2b\n",
    "\n",
    "def aritmetisk(n,s):\n",
    "    while n < 1000:\n",
    "        n = 2*n\n",
    "        s += n+1\n",
    "    print(f\"Ditt resultat är : {s}\")\n",
    "\n",
    "n = int(input(\"Bestäm värdet för : n\"))\n",
    "s = int(input(\"Bestäm värdet för : s\"))\n",
    "\n",
    "aritmetisk(n,s)"
   ]
  },
  {
   "cell_type": "code",
   "execution_count": null,
   "metadata": {},
   "outputs": [],
   "source": [
    "#Uppgift 3a\n"
   ]
  }
 ]
}