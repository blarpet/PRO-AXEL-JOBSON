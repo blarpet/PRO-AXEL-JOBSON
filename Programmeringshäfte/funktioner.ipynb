{
 "metadata": {
  "language_info": {
   "codemirror_mode": {
    "name": "ipython",
    "version": 3
   },
   "file_extension": ".py",
   "mimetype": "text/x-python",
   "name": "python",
   "nbconvert_exporter": "python",
   "pygments_lexer": "ipython3",
   "version": "3.7.3-final"
  },
  "orig_nbformat": 2,
  "kernelspec": {
   "name": "python3",
   "display_name": "Python 3.7.3 32-bit",
   "metadata": {
    "interpreter": {
     "hash": "d1bb9831e6c930bd0a1ae8bd3aaa37e1b7a7ff6f2c216da3a0736498f4ab6204"
    }
   }
  }
 },
 "nbformat": 4,
 "nbformat_minor": 2,
 "cells": [
  {
   "cell_type": "code",
   "execution_count": 10,
   "metadata": {},
   "outputs": [
    {
     "output_type": "stream",
     "name": "stdout",
     "text": [
      "55.0\n"
     ]
    }
   ],
   "source": [
    "def aritmetisk(a1,an,n):\n",
    "    arit = n*(a1+an)/2\n",
    "    return arit\n",
    "summa = aritmetisk(1,10,10)\n",
    "print(summa)"
   ]
  },
  {
   "cell_type": "code",
   "execution_count": 2,
   "metadata": {},
   "outputs": [
    {
     "output_type": "stream",
     "name": "stdout",
     "text": [
      "5050.0\n"
     ]
    }
   ],
   "source": [
    "def aritmetisk(a1,an,n):\n",
    "    arit = n*(a1+an)/2\n",
    "    return arit\n",
    "summa = aritmetisk(1,100,100)\n",
    "print(summa)"
   ]
  },
  {
   "cell_type": "code",
   "execution_count": 3,
   "metadata": {},
   "outputs": [
    {
     "output_type": "stream",
     "name": "stdout",
     "text": [
      "55.0\n"
     ]
    }
   ],
   "source": [
    "def aritmetisk(a1,an,n):\n",
    "    a1 = int(input(\"Ange a1:\"))\n",
    "    an = int(input(\"Ange an:\"))\n",
    "    n = int(input(\"Ange n:\"))\n",
    "    arit = n*(a1+an)/2\n",
    "    return arit\n",
    "summa = aritmetisk(1,100,100)\n",
    "print(summa)"
   ]
  },
  {
   "cell_type": "code",
   "execution_count": null,
   "metadata": {},
   "outputs": [],
   "source": [
    "def aritmetisk(a1,an,n):\n",
    "    arit = n*(a1+an)/2\n",
    "    return arit\n",
    "summa = aritmetisk(1,10,10)\n",
    "print(summa)"
   ]
  }
 ]
}