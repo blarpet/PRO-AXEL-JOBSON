{
 "metadata": {
  "language_info": {
   "codemirror_mode": {
    "name": "ipython",
    "version": 3
   },
   "file_extension": ".py",
   "mimetype": "text/x-python",
   "name": "python",
   "nbconvert_exporter": "python",
   "pygments_lexer": "ipython3",
   "version": "3.8.1-final"
  },
  "orig_nbformat": 2,
  "kernelspec": {
   "name": "python3",
   "display_name": "Python 3.8.1 32-bit",
   "metadata": {
    "interpreter": {
     "hash": "acab747f705e2d2d67d7b5f85d0439e6925ec1dbd5d61423de190953ba9f20bb"
    }
   }
  }
 },
 "nbformat": 4,
 "nbformat_minor": 2,
 "cells": [
  {
   "cell_type": "code",
   "execution_count": 9,
   "metadata": {},
   "outputs": [
    {
     "output_type": "stream",
     "name": "stdout",
     "text": [
      "Ditt namn har 8 antal bokstäver.\n"
     ]
    }
   ],
   "source": [
    "namn = str(input(\"Vad är ditt namn min son?\"))\n",
    "antal_bokstäver = len(namn)\n",
    "print(\"Ditt namn har \" f\"{antal_bokstäver}\" \" antal bokstäver.\")"
   ]
  },
  {
   "cell_type": "code",
   "execution_count": 22,
   "metadata": {},
   "outputs": [
    {
     "output_type": "stream",
     "name": "stdout",
     "text": [
      "15\n"
     ]
    }
   ],
   "source": [
    "string = \"En bild säger mer än tusen ord, en matematisk formel säger mer än tusen bilder\"\n",
    "res = len(string.split())\n",
    "print(res)"
   ]
  },
  {
   "cell_type": "code",
   "execution_count": 16,
   "metadata": {},
   "outputs": [
    {
     "output_type": "stream",
     "name": "stdout",
     "text": [
      "Detta är inte en palindrom\n"
     ]
    }
   ],
   "source": [
    "palindrom = str(input(\"Ange en palindrom din lilla varelse!\"))\n",
    "\n",
    "palindrom2 = palindrom[::-1]\n",
    "if palindrom == palindrom2:\n",
    "    print(\"Detta är en palindrom\")\n",
    "else:\n",
    "    print(\"Detta är inte en palindrom\")"
   ]
  },
  {
   "cell_type": "code",
   "execution_count": 18,
   "metadata": {},
   "outputs": [
    {
     "output_type": "stream",
     "name": "stdout",
     "text": [
      "Detta är inte en palindrom\n"
     ]
    }
   ],
   "source": [
    "palindrom = str(input(\"Ange en palindrom din lilla varelse!\"))\n",
    "\n",
    "palindrom2 = palindrom[::-1]\n",
    "if palindrom == palindrom2:\n",
    "    print(\"Detta är en palindrom\")\n",
    "else:\n",
    "    print(\"Detta är inte en palindrom\")"
   ]
  },
  {
   "cell_type": "code",
   "execution_count": null,
   "metadata": {},
   "outputs": [],
   "source": []
  }
 ]
}