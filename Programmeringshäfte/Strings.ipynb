{
 "metadata": {
  "language_info": {
   "codemirror_mode": {
    "name": "ipython",
    "version": 3
   },
   "file_extension": ".py",
   "mimetype": "text/x-python",
   "name": "python",
   "nbconvert_exporter": "python",
   "pygments_lexer": "ipython3",
   "version": "3.7.3-final"
  },
  "orig_nbformat": 2,
  "kernelspec": {
   "name": "python3",
   "display_name": "Python 3.7.3 32-bit",
   "metadata": {
    "interpreter": {
     "hash": "d1bb9831e6c930bd0a1ae8bd3aaa37e1b7a7ff6f2c216da3a0736498f4ab6204"
    }
   }
  }
 },
 "nbformat": 4,
 "nbformat_minor": 2,
 "cells": [
  {
   "cell_type": "code",
   "execution_count": 9,
   "metadata": {},
   "outputs": [
    {
     "output_type": "stream",
     "name": "stdout",
     "text": [
      "Ditt namn har 8 antal bokstäver.\n"
     ]
    }
   ],
   "source": [
    "namn = str(input(\"Vad är ditt namn min son?\"))\n",
    "antal_bokstäver = len(namn)\n",
    "print(\"Ditt namn har \" f\"{antal_bokstäver}\" \" antal bokstäver.\")"
   ]
  },
  {
   "cell_type": "code",
   "execution_count": 22,
   "metadata": {},
   "outputs": [
    {
     "output_type": "stream",
     "name": "stdout",
     "text": [
      "15\n"
     ]
    }
   ],
   "source": [
    "string = \"En bild säger mer än tusen ord, en matematisk formel säger mer än tusen bilder\"\n",
    "res = len(string.split())\n",
    "print(res)"
   ]
  },
  {
   "cell_type": "code",
   "execution_count": 38,
   "metadata": {},
   "outputs": [
    {
     "output_type": "stream",
     "name": "stdout",
     "text": [
      "Detta är inte en palindrom\n"
     ]
    }
   ],
   "source": [
    "palindrom = str(input(\"Ange en palindrom din lilla varelse!\"))\n",
    "\n",
    "palindrom2 = palindrom[::-1]\n",
    "\n",
    "if palindrom == palindrom2:\n",
    "    print(\"Detta är en palindrom\")\n",
    "else:\n",
    "    print(\"Detta är inte en palindrom\")"
   ]
  },
  {
   "cell_type": "code",
   "execution_count": 49,
   "metadata": {},
   "outputs": [
    {
     "output_type": "stream",
     "name": "stdout",
     "text": [
      "Detta är en palindrom\n"
     ]
    }
   ],
   "source": [
    "palindrom = str(input(\"Ange en palindrom din lilla varelse!\"))\n",
    "\n",
    "palindrom=palindrom.lower()\n",
    "\n",
    "palindrom=palindrom.replace(\" \",\"\")\n",
    "palindrom=palindrom.replace(\",\",\"\")\n",
    "\n",
    "if palindrom==palindrom[::-1]:\n",
    "    print(\"Detta är en palindrom\")\n",
    "else:\n",
    "    print(\"Detta är inte en palindrom\")"
   ]
  },
  {
   "cell_type": "code",
   "execution_count": 28,
   "metadata": {},
   "outputs": [
    {
     "output_type": "stream",
     "name": "stdout",
     "text": [
      "1\n"
     ]
    }
   ],
   "source": [
    "citat = \"Do not worry about your difficulties in Mathematics. I can assure you mine are still greater.\"\n",
    "\n",
    "vokaler = \"aoueiy\"\n",
    "\n",
    "antal = {}\n",
    "\n",
    "for o in citat:\n",
    "    antal =+ 1\n",
    "print(antal)"
   ]
  },
  {
   "cell_type": "code",
   "execution_count": null,
   "metadata": {},
   "outputs": [],
   "source": []
  }
 ]
}