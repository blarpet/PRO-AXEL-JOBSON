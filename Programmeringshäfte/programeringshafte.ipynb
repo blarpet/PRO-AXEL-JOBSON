{
 "metadata": {
  "language_info": {
   "codemirror_mode": {
    "name": "ipython",
    "version": 3
   },
   "file_extension": ".py",
   "mimetype": "text/x-python",
   "name": "python",
   "nbconvert_exporter": "python",
   "pygments_lexer": "ipython3",
   "version": "3.7.3-final"
  },
  "orig_nbformat": 2,
  "kernelspec": {
   "name": "python3",
   "display_name": "Python 3.7.3 32-bit",
   "metadata": {
    "interpreter": {
     "hash": "d1bb9831e6c930bd0a1ae8bd3aaa37e1b7a7ff6f2c216da3a0736498f4ab6204"
    }
   }
  }
 },
 "nbformat": 4,
 "nbformat_minor": 2,
 "cells": [
  {
   "cell_type": "code",
   "execution_count": null,
   "metadata": {
    "tags": []
   },
   "outputs": [],
   "source": [
    "k1 = 3\n",
    "h = 5\n",
    "k2 = h**2-k1**2\n",
    "k2 = k2**0.5\n",
    "print (f\"Svar: {k2}cm\")"
   ]
  },
  {
   "cell_type": "code",
   "execution_count": null,
   "metadata": {
    "tags": []
   },
   "outputs": [],
   "source": [
    "b = float(input(\"Triangelns bas: \"))\n",
    "h = float(input(\"Triangelns höjd: \"))\n",
    "a = b*h/2\n",
    "print (f\"Svar: Arean är {a}cm^2\")"
   ]
  },
  {
   "cell_type": "code",
   "execution_count": null,
   "metadata": {},
   "outputs": [],
   "source": []
  },
  {
   "cell_type": "code",
   "execution_count": null,
   "metadata": {
    "tags": []
   },
   "outputs": [],
   "source": [
    "db = 4\n",
    "dh = 1\n",
    "h = db**2+dh**2\n",
    "h = h**0.5\n",
    "print (f\"Distance: {h}\") "
   ]
  },
  {
   "cell_type": "code",
   "execution_count": null,
   "metadata": {
    "tags": []
   },
   "outputs": [],
   "source": [
    "dx = 2-1\n",
    "dy = 1-0\n",
    "h = dx**2+dy**2\n",
    "h = h**0.5\n",
    "print (f\"Distance: {h}\")"
   ]
  },
  {
   "cell_type": "code",
   "execution_count": null,
   "metadata": {
    "tags": []
   },
   "outputs": [],
   "source": [
    "p1x = float(input(\"Första pungtens x-värde\"))\n",
    "p1y = float(input(\"Första pungtens y-värde\"))\n",
    "p2x = float(input(\"Andra pungtens x-värde\"))\n",
    "p2y = float(input(\"Andra pungtens y-värde\"))\n",
    "dx = p1x-p2x\n",
    "dy = p1y-p2y\n",
    "h = dx**2+dy**2\n",
    "h = h**0.5\n",
    "print (f\"Avståndet är: {h}\")\n"
   ]
  },
  {
   "cell_type": "code",
   "execution_count": null,
   "metadata": {
    "tags": []
   },
   "outputs": [],
   "source": [
    "tal = float(input(\"Skriv in talet: \"))\n",
    "if tal > 0:print (\"Talet är Positivt\")\n",
    "elif tal < 0:print (\"Talet är Negativt\")\n",
    "else: print (\"Talet är 0\") "
   ]
  },
  {
   "cell_type": "code",
   "execution_count": null,
   "metadata": {
    "tags": []
   },
   "outputs": [],
   "source": [
    "tal = int(input(\"Skriv in talet: \"))\n",
    "if tal%2 == 0:\n",
    "    print(\"Talet är jämnt.\")\n",
    "elif tal%5 == 0:\n",
    "    print(\"Kan delas med 5\")\n",
    "else:\n",
    "    print(\"Talet är udda.\")"
   ]
  },
  {
   "cell_type": "code",
   "execution_count": null,
   "metadata": {
    "tags": []
   },
   "outputs": [],
   "source": [
    "tal1 = int(input(\"Skriv tal 1: \"))\n",
    "tal2 = int(input(\"Skriv tal 2: \"))\n",
    "tal3 = int(input(\"Skriv tal 3: \"))\n",
    "tal4 = int(input(\"Skriv tal 4: \"))\n",
    "\n",
    "if tal1 > tal2 and tal1 > tal3 and tal1 > tal4:\n",
    "    print(\"Tal 1 är störst.\")\n",
    "elif tal2 > tal3 and tal2 > tal4:\n",
    "    print(\"Tal 2 är störst. \")\n",
    "elif tal3 > tal4:\n",
    "    print(\"Tal 3 är störst. \")\n",
    "else:\n",
    "    print(\"Tal 4 är störst. \")\n"
   ]
  },
  {
   "cell_type": "code",
   "execution_count": null,
   "metadata": {
    "tags": []
   },
   "outputs": [],
   "source": [
    "vinkeln = int(input(\"Skriv in ett antal vinkel grader: \"))\n",
    "\n",
    "if vinkeln < 90:\n",
    "    print(\"Vinkeln är Spetsig.\")\n",
    "elif vinkeln == 90:\n",
    "    print(\"Vinkeln är Rät vinklig. \")\n",
    "elif vinkeln > 90 and vinkeln < 180:\n",
    "    print(\"Vinkeln är Trubbing. \")\n",
    "elif vinkeln > 180 and vinkeln < 270:\n",
    "    print(\"Vinkeln är Konvex. \")\n",
    "elif vinkeln == 360:\n",
    "    print(\"Vinkeln är Hel.\")\n",
    "else:\n",
    "    print(\"Ogiltig antal grader.\")"
   ]
  },
  {
   "cell_type": "code",
   "execution_count": null,
   "metadata": {
    "tags": []
   },
   "outputs": [],
   "source": [
    "radie = float(input(\"Skriv en radie: \"))\n",
    "\n",
    "omkrets = radie * 2 * 3.14\n",
    "\n",
    "area = radie * radie * 3.14\n",
    "\n",
    "if radie > 0:\n",
    "    print(f\"Omkretsen är {omkrets} och arean är {area}.\")\n",
    "elif radie < 0:\n",
    "    print(f\"Talet är negativt\")"
   ]
  },
  {
   "cell_type": "code",
   "execution_count": null,
   "metadata": {
    "tags": []
   },
   "outputs": [],
   "source": [
    "A = float(input(\"Skriv vinkel A: \"))\n",
    "B = float(input(\"Skriv vinkel B: \"))\n",
    "C = float(input(\"Skriv Vinkel C: \"))\n",
    "\n",
    "if A == 90 or B == 90 or C == 90:\n",
    "    print(\"Triangeln är rätvinklig.\")\n",
    "else:\n",
    "    print(\"Triangeln är inte rätvinklig.\")"
   ]
  },
  {
   "cell_type": "code",
   "execution_count": 1,
   "metadata": {
    "tags": []
   },
   "outputs": [
    {
     "output_type": "stream",
     "name": "stdout",
     "text": [
      "1 2 3 4 5 6 7 8 9 10 "
     ]
    }
   ],
   "source": [
    "for i in range(1,11):\n",
    "    print(i, end=\" \")"
   ]
  },
  {
   "cell_type": "code",
   "execution_count": null,
   "metadata": {
    "tags": []
   },
   "outputs": [],
   "source": [
    "for i in range(-10, 11):\n",
    "    print(i, end=\" \")"
   ]
  },
  {
   "cell_type": "code",
   "execution_count": 2,
   "metadata": {
    "tags": []
   },
   "outputs": [
    {
     "output_type": "stream",
     "name": "stdout",
     "text": [
      "10 9 8 7 6 5 4 3 2 1 0 "
     ]
    }
   ],
   "source": [
    "for i in range(0, 11):\n",
    "    print(10-i, end=\" \")"
   ]
  },
  {
   "cell_type": "code",
   "execution_count": 3,
   "metadata": {
    "tags": []
   },
   "outputs": [
    {
     "output_type": "stream",
     "name": "stdout",
     "text": [
      "Summan 1+2+3+...+99 = 5050\n"
     ]
    }
   ],
   "source": [
    "s = 0\n",
    "\n",
    "for i in range(1,101):\n",
    "    s += i\n",
    "\n",
    "print(f\"Summan 1+2+3+...+99 = {s}\")"
   ]
  },
  {
   "cell_type": "code",
   "execution_count": null,
   "metadata": {
    "tags": []
   },
   "outputs": [],
   "source": [
    "s = 0\n",
    "\n",
    "for i in range(1, 100, 2,):\n",
    "    s += i\n",
    "print(f\"Summan 1+3+5+...+99 = {s}\")"
   ]
  },
  {
   "cell_type": "code",
   "execution_count": 1,
   "metadata": {
    "tags": []
   },
   "outputs": [
    {
     "output_type": "stream",
     "name": "stdout",
     "text": [
      "0 5 10 15 20 25 30 35 40 45 50 "
     ]
    }
   ],
   "source": [
    "s = 0\n",
    "\n",
    "for i in range(0, 50+1, 5,):\n",
    "    print(i, end =\" \")"
   ]
  },
  {
   "cell_type": "code",
   "execution_count": 57,
   "metadata": {
    "tags": []
   },
   "outputs": [
    {
     "output_type": "stream",
     "name": "stdout",
     "text": "5 10 15 20 25 30 35 40 45 "
    }
   ],
   "source": [
    "a = int(input(\"Ange vilken tal som det börjar med: \"))\n",
    "b = int(input(\"Ange vilken tal som den slutar med: \"))\n",
    "c = int(input(\"Ange vilken tabell: \"))\n",
    "\n",
    "for i in range(a, b+1, c):\n",
    "    print(i, end=\" \")"
   ]
  },
  {
   "cell_type": "code",
   "execution_count": 1,
   "metadata": {
    "tags": []
   },
   "outputs": [
    {
     "output_type": "stream",
     "name": "stdout",
     "text": "5050\n"
    }
   ],
   "source": [
    "s,n = 0,0\n",
    "while n<100:\n",
    "    n+=1\n",
    "    s+=n\n",
    "print(s)"
   ]
  },
  {
   "cell_type": "code",
   "execution_count": null,
   "metadata": {},
   "outputs": [],
   "source": [
    "s,n = 0,0\n",
    "while n<100:\n",
    "    n+=2\n",
    "    s+=n\n",
    "print(s)"
   ]
  },
  {
   "cell_type": "code",
   "execution_count": 1,
   "metadata": {
    "tags": []
   },
   "outputs": [
    {
     "output_type": "stream",
     "name": "stdout",
     "text": [
      "För lågt, försök igen.\n",
      "För lågt, försök igen.\n",
      "För högt, försök igen.\n",
      "För högt, försök igen.\n",
      "För lågt, försök igen.\n",
      "För lågt, försök igen.\n",
      "För lågt, försök igen.\n",
      "Rätt svar! Bra spelat.\n"
     ]
    }
   ],
   "source": [
    "import random\n",
    "rättsvar = random.randint(1, 100)\n",
    "spelöver = False\n",
    "\n",
    "while spelöver == False:\n",
    "    spelargissning = int(input(\"Gissa på ett number mellan 1 och 100: \"))\n",
    "    if spelargissning == rättsvar:\n",
    "        jämförsvar = \"Rätt\"\n",
    "        spelöver = True\n",
    "    elif spelargissning > rättsvar:\n",
    "        jämförsvar = \"Högt\"\n",
    "    elif spelargissning < rättsvar:\n",
    "        jämförsvar = \"Lågt\"\n",
    "\n",
    "    if jämförsvar == \"Rätt\":\n",
    "        print(\"Rätt svar! Bra spelat.\")\n",
    "    elif jämförsvar == \"Högt\":\n",
    "        print(\"För högt, försök igen.\")\n",
    "    elif jämförsvar == \"Lågt\":\n",
    "        print(\"För lågt, försök igen.\")"
   ]
  },
  {
   "cell_type": "code",
   "execution_count": 27,
   "metadata": {
    "tags": []
   },
   "outputs": [
    {
     "output_type": "stream",
     "name": "stdout",
     "text": "Namnet har 4 bokstäver inom sig.\n"
    }
   ],
   "source": [
    "namn = raw=input(\"Ange ditt namn: \")\n",
    "print(\"Namnet har\", len(namn), \"bokstäver inom sig.\")"
   ]
  },
  {
   "cell_type": "code",
   "execution_count": 9,
   "metadata": {
    "tags": []
   },
   "outputs": [
    {
     "output_type": "stream",
     "name": "stdout",
     "text": "7\n"
    }
   ],
   "source": [
    "string = \"Talk is cheap, show me the code!\"\n",
    "res = len(string.split())\n",
    "print(res)"
   ]
  },
  {
   "cell_type": "code",
   "execution_count": 5,
   "metadata": {},
   "outputs": [
    {
     "output_type": "stream",
     "name": "stdout",
     "text": [
      "Den är inte palindromisk. \n"
     ]
    }
   ],
   "source": [
    "text = raw=input(\"Ange text: \")\n",
    "\n",
    "text = text.casefold()\n",
    "\n",
    "back_text = reversed(text)\n",
    "\n",
    "if list(text) == list(back_text):\n",
    "    print(\"Den är palindromisk. \")\n",
    "else:\n",
    "    print(\"Den är inte palindromisk. \")"
   ]
  },
  {
   "cell_type": "code",
   "execution_count": null,
   "metadata": {},
   "outputs": [],
   "source": []
  }
 ]
}