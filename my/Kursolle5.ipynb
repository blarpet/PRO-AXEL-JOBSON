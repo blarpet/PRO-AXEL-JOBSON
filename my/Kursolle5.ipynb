{
 "metadata": {
  "language_info": {
   "codemirror_mode": {
    "name": "ipython",
    "version": 3
   },
   "file_extension": ".py",
   "mimetype": "text/x-python",
   "name": "python",
   "nbconvert_exporter": "python",
   "pygments_lexer": "ipython3",
   "version": "3.7.3-final"
  },
  "orig_nbformat": 2,
  "kernelspec": {
   "name": "python3",
   "display_name": "Python 3.7.3 32-bit",
   "metadata": {
    "interpreter": {
     "hash": "d1bb9831e6c930bd0a1ae8bd3aaa37e1b7a7ff6f2c216da3a0736498f4ab6204"
    }
   }
  }
 },
 "nbformat": 4,
 "nbformat_minor": 2,
 "cells": [
  {
   "cell_type": "code",
   "execution_count": 1,
   "metadata": {},
   "outputs": [
    {
     "output_type": "stream",
     "name": "stdout",
     "text": [
      "Axel Jobson, TE19D, NTI Kronhus\n"
     ]
    }
   ],
   "source": [
    "def data():\n",
    "    print(\"Axel Jobson, TE19D, NTI Kronhus\")\n",
    "data()"
   ]
  },
  {
   "cell_type": "code",
   "execution_count": 10,
   "metadata": {},
   "outputs": [
    {
     "output_type": "stream",
     "name": "stdout",
     "text": [
      "Omkrets är 6.28\nArea är 3.14\n"
     ]
    }
   ],
   "source": [
    "r = int(input(\"What radie do you want to use for your circle?\"))\n",
    "\n",
    "def omkrets(r):\n",
    "    pi = 3.14\n",
    "    o = (r+r)*pi\n",
    "    return print(f\"Omkrets är {o}\")\n",
    "def area(r):\n",
    "    pi = 3.14\n",
    "    a = r*r*pi\n",
    "    return print(f\"Area är {a}\")\n",
    "omkrets(r)\n",
    "area(r)"
   ]
  },
  {
   "cell_type": "code",
   "execution_count": null,
   "metadata": {},
   "outputs": [],
   "source": []
  },
  {
   "cell_type": "code",
   "execution_count": 5,
   "metadata": {},
   "outputs": [
    {
     "output_type": "stream",
     "name": "stdout",
     "text": [
      "Omkrets är 6.28\nArea är 3.14\n"
     ]
    }
   ],
   "source": [
    "import importfile1 #Importerar funktioner som beräknar omkrets och area av en cirkel\n",
    "\n",
    "r = int(input(\"What radie do you want to use for your circle?\")) #Input\n",
    "\n",
    "importfile1.omkrets(r) #Kör den importarde funktionen\n",
    "importfile1.area(r) #Kör den importarde funktionen"
   ]
  },
  {
   "cell_type": "code",
   "execution_count": null,
   "metadata": {},
   "outputs": [],
   "source": []
  }
 ]
}