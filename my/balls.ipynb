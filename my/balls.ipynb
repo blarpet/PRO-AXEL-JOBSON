{
 "metadata": {
  "language_info": {
   "codemirror_mode": {
    "name": "ipython",
    "version": 3
   },
   "file_extension": ".py",
   "mimetype": "text/x-python",
   "name": "python",
   "nbconvert_exporter": "python",
   "pygments_lexer": "ipython3",
   "version": "3.7.3-final"
  },
  "orig_nbformat": 2,
  "kernelspec": {
   "name": "python3",
   "display_name": "Python 3.7.3 32-bit",
   "metadata": {
    "interpreter": {
     "hash": "d1bb9831e6c930bd0a1ae8bd3aaa37e1b7a7ff6f2c216da3a0736498f4ab6204"
    }
   }
  }
 },
 "nbformat": 4,
 "nbformat_minor": 2,
 "cells": [
  {
   "cell_type": "code",
   "execution_count": 22,
   "metadata": {},
   "outputs": [
    {
     "output_type": "stream",
     "name": "stdout",
     "text": [
      "hello\n"
     ]
    }
   ],
   "source": [
    "#create a function:\n",
    "def myfunction():\n",
    "  global x\n",
    "  x = \"hello\"\n",
    "  p\n",
    "\n",
    "#execute the function:\n",
    "myfunction()\n",
    "#x should now be global, and accessible in the global scope.\n",
    "print(x)"
   ]
  },
  {
   "cell_type": "code",
   "execution_count": 2,
   "metadata": {},
   "outputs": [
    {
     "output_type": "stream",
     "name": "stdout",
     "text": [
      "1 + 3 = 4\n1.5 + 3.14 = 4.640000000000001\n2 + -5 = -3\n4567 + 8901 = 13468\n2 + 13 = 15\n"
     ]
    }
   ],
   "source": [
    "def summa(a, b):\n",
    "    c = a + b\n",
    "    print(\"{} + {} = {}\".format(a, b, c))\n",
    "\n",
    "summa(1, 3)\n",
    "summa(1.5, 3.14)\n",
    "\n",
    "a = 2\n",
    "b = -5\n",
    "summa(a, b)\n",
    "\n",
    "summa(4567, 8901)\n",
    "\n",
    "x = 2\n",
    "y = 13\n",
    "summa(x, y)"
   ]
  },
  {
   "cell_type": "code",
   "execution_count": 30,
   "metadata": {},
   "outputs": [
    {
     "output_type": "stream",
     "name": "stdout",
     "text": [
      "The rectangles area with the sides 4 and 5 is: 30\nThe rectangles has the sides 5 and 6\n"
     ]
    }
   ],
   "source": [
    "side1 = 4\n",
    "side2 = 5\n",
    "\n",
    "def rectangle_area():   \n",
    "    global side1\n",
    "    global side2\n",
    "    side1 = side1 + 1\n",
    "    side2 = side2 + 1\n",
    "    area = side1 * side2\n",
    "    print(area)\n",
    "\n",
    "print(\"The rectangles area with the sides {} and {} is: \" .format(side1, side2), end=\"\")\n",
    "rectangle_area()\n",
    "print(\"The rectangles has the sides {} and {}\" .format(side1, side2))"
   ]
  },
  {
   "cell_type": "code",
   "execution_count": 31,
   "metadata": {},
   "outputs": [
    {
     "output_type": "stream",
     "name": "stdout",
     "text": [
      "Rektangelns area med sidorna 4 och 5 är: 30\nRektangeln har sidorna 5 och 6\n"
     ]
    }
   ],
   "source": [
    "# Här påverkar funktionen de globala variablerna sida1 och sida2\n",
    "sida1 = 4\n",
    "sida2 = 5\n",
    "def rektangel_area():\n",
    "  # I funktionen anges global före variabelnamnet för att komma åt variabler\n",
    "  # som deklarerats utanför funktionen.\n",
    "  global sida1\n",
    "  global sida2\n",
    "  sida1 = sida1 + 1\n",
    "  sida2 = sida2 + 1\n",
    "  area = sida1 * sida2\n",
    "  print(area)\n",
    "print('Rektangelns area med sidorna {} och {} är: '.format(sida1, sida2), end='')\n",
    "rektangel_area()\n",
    "print('Rektangeln har sidorna {} och {}'.format(sida1, sida2))"
   ]
  },
  {
   "cell_type": "code",
   "execution_count": 7,
   "metadata": {},
   "outputs": [
    {
     "output_type": "stream",
     "name": "stdout",
     "text": [
      " Tiden är : 2:46:40\n"
     ]
    }
   ],
   "source": [
    "import datetime\n",
    "s = int(input(\"Hur många sekunder mår du?\"))\n",
    "conversion = datetime.timedelta(seconds=s)\n",
    "print(f\" Tiden är: {conversion}\")   \n"
   ]
  },
  {
   "cell_type": "code",
   "execution_count": 6,
   "metadata": {},
   "outputs": [
    {
     "output_type": "stream",
     "name": "stdout",
     "text": [
      "Omkretsen är: 6.28\nArean är: 3.14\n"
     ]
    }
   ],
   "source": [
    "\n",
    "pi = 3.14\n",
    "\n",
    "svar = str(input(\"Vill du skriva radien i ett heltal eller decimaltal? (Heltal/Decimaltal)\"))\n",
    "\n",
    "if svar == \"Heltal\":\n",
    "    r = int(input(\"Vad är radien av cirkeln?\"))\n",
    "elif svar == \"Decimaltal\":\n",
    "    r = float(input(\"Vad är radien av cirkeln?\"))\n",
    "else:\n",
    "    print(\"Svara antingen (Heltal) eller (Decimaltal).\")\n",
    "\n",
    "def area(r, pi):\n",
    "    a = (r * r) * pi\n",
    "    return a\n",
    "\n",
    "def omkrets(r, pi):\n",
    "    o = (2 * r) * pi\n",
    "    return o\n",
    "\n",
    "a = area(r, pi)\n",
    "\n",
    "o = omkrets(r, pi)\n",
    "\n",
    "print(f\"Omkretsen är: {o}\")\n",
    "print(f\"Arean är: {a}\")\n"
   ]
  },
  {
   "cell_type": "code",
   "execution_count": null,
   "metadata": {},
   "outputs": [],
   "source": [
    "def area(r, pi, a):\n",
    "    a = r * r * pi\n",
    "    return a\n",
    "\n",
    "def omkrets(r, pi, o):\n",
    "    o = 2 * r * pi\n",
    "    return o\n"
   ]
  }
 ]
}