{
 "metadata": {
  "language_info": {
   "codemirror_mode": {
    "name": "ipython",
    "version": 3
   },
   "file_extension": ".py",
   "mimetype": "text/x-python",
   "name": "python",
   "nbconvert_exporter": "python",
   "pygments_lexer": "ipython3",
   "version": "3.8.1-final"
  },
  "orig_nbformat": 2,
  "kernelspec": {
   "name": "python3",
   "display_name": "Python 3.8.1 32-bit",
   "metadata": {
    "interpreter": {
     "hash": "acab747f705e2d2d67d7b5f85d0439e6925ec1dbd5d61423de190953ba9f20bb"
    }
   }
  }
 },
 "nbformat": 4,
 "nbformat_minor": 2,
 "cells": [
  {
   "cell_type": "code",
   "execution_count": 18,
   "metadata": {},
   "outputs": [
    {
     "output_type": "stream",
     "name": "stdout",
     "text": [
      "Namn: Axel Jobson\nÅlder: 17\nFinger längd: 28cm\n"
     ]
    }
   ],
   "source": [
    "förnamn = \"Axel\"\n",
    "efternamn = \"Jobson\"\n",
    "ålder = \"17\"\n",
    "fingea = \"28\"\n",
    "\n",
    "namn = förnamn +\" \"+ efternamn\n",
    "person = \"Namn: \"+namn +\"\\n\"+ \"Ålder: \" + ålder + \"\\n\" + \"Finger längd: \" + fingea + \"cm\"\n",
    "\n",
    "print(person)"
   ]
  },
  {
   "cell_type": "code",
   "execution_count": 21,
   "metadata": {},
   "outputs": [
    {
     "output_type": "stream",
     "name": "stdout",
     "text": [
      "Antal bokstäver i abc är: 3\nBokstav på index 0: a\nBokstav på index 2: c\nAbc baklänges: cba\n"
     ]
    }
   ],
   "source": [
    "alfabet = \"abc\"\n",
    "\n",
    "antal_bokstäver = len(alfabet)\n",
    "\n",
    "print(f\"Antal bokstäver i abc är: {antal_bokstäver}\")\n",
    "print(f\"Bokstav på index 0: {alfabet[0]}\")\n",
    "print(f\"Bokstav på index 2: {alfabet[2]}\")\n",
    "print(f\"Abc baklänges: {alfabet[::-1]}\")"
   ]
  },
  {
   "cell_type": "code",
   "execution_count": 27,
   "metadata": {},
   "outputs": [
    {
     "output_type": "stream",
     "name": "stdout",
     "text": [
      "Gaming, Gaming, Gaming, Gaming\nJag gillar Gaming\nJag gillar Gaming\nJag gillar Gaming\nJag gillar Gaming\n"
     ]
    }
   ],
   "source": [
    "    favoritämne = \"Gaming, Gaming, Gaming, Gaming\"\n",
    "\n",
    "    print(favoritämne)\n",
    "\n",
    "    ämne_lista = favoritämne.split(\", \")\n",
    "\n",
    "    for ämne in ämne_lista:\n",
    "        print(f\"Jag gillar {ämne}\")"
   ]
  },
  {
   "cell_type": "code",
   "execution_count": null,
   "metadata": {},
   "outputs": [],
   "source": []
  }
 ]
}