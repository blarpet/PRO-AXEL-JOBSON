{
 "metadata": {
  "language_info": {
   "codemirror_mode": {
    "name": "ipython",
    "version": 3
   },
   "file_extension": ".py",
   "mimetype": "text/x-python",
   "name": "python",
   "nbconvert_exporter": "python",
   "pygments_lexer": "ipython3",
   "version": "3.9.4"
  },
  "orig_nbformat": 2,
  "kernelspec": {
   "name": "python394jvsc74a57bd0913cea3192208d80e7692463ba5c889ec33dd32b5215e1e0c486dd7db0a90499",
   "display_name": "Python 3.9.4 64-bit"
  },
  "metadata": {
   "interpreter": {
    "hash": "913cea3192208d80e7692463ba5c889ec33dd32b5215e1e0c486dd7db0a90499"
   }
  }
 },
 "nbformat": 4,
 "nbformat_minor": 2,
 "cells": [
  {
   "cell_type": "code",
   "execution_count": 2,
   "metadata": {},
   "outputs": [
    {
     "output_type": "execute_result",
     "data": {
      "text/plain": [
       "     Male  288507  3582  6657\n",
       "0  Female  319641  1411  5771"
      ],
      "text/html": "<div>\n<style scoped>\n    .dataframe tbody tr th:only-of-type {\n        vertical-align: middle;\n    }\n\n    .dataframe tbody tr th {\n        vertical-align: top;\n    }\n\n    .dataframe thead th {\n        text-align: right;\n    }\n</style>\n<table border=\"1\" class=\"dataframe\">\n  <thead>\n    <tr style=\"text-align: right;\">\n      <th></th>\n      <th>Male</th>\n      <th>288507</th>\n      <th>3582</th>\n      <th>6657</th>\n    </tr>\n  </thead>\n  <tbody>\n    <tr>\n      <th>0</th>\n      <td>Female</td>\n      <td>319641</td>\n      <td>1411</td>\n      <td>5771</td>\n    </tr>\n  </tbody>\n</table>\n</div>"
     },
     "metadata": {},
     "execution_count": 2
    }
   ],
   "source": [
    "import pandas as pd\n",
    "import matplotlib.pyplot as plt \n",
    "df = pd.read_csv(\"Gender_Data.csv\", header=1)\n",
    "df"
   ]
  },
  {
   "cell_type": "code",
   "execution_count": 3,
   "metadata": {},
   "outputs": [
    {
     "output_type": "execute_result",
     "data": {
      "text/plain": [
       "       1  2020  1440         Ale    0.0  0.0.1    0 0.1\n",
       "0      2  2020  1440         Ale    0.0    0.0    0   0\n",
       "1      3  2020  1440         Ale    0.0    0.0    0   0\n",
       "2      4  2020  1440         Ale    0.0    0.0    0   0\n",
       "3      5  2020  1440         Ale    0.0    0.0    0   0\n",
       "4      6  2020  1440         Ale    0.0    0.0    0   0\n",
       "...   ..   ...   ...         ...    ...    ...  ...  ..\n",
       "18670  1  2021  2518  Övertorneå  154.0   37.0   66  16\n",
       "18671  2  2021  2518  Övertorneå  188.0   35.0   81  15\n",
       "18672  3  2021  2518  Övertorneå  198.0    9.0   85   4\n",
       "18673  4  2021  2518  Övertorneå  223.0   26.0   96  11\n",
       "18674  5  2021  2518  Övertorneå  247.0   23.0  106  10\n",
       "\n",
       "[18675 rows x 8 columns]"
      ],
      "text/html": "<div>\n<style scoped>\n    .dataframe tbody tr th:only-of-type {\n        vertical-align: middle;\n    }\n\n    .dataframe tbody tr th {\n        vertical-align: top;\n    }\n\n    .dataframe thead th {\n        text-align: right;\n    }\n</style>\n<table border=\"1\" class=\"dataframe\">\n  <thead>\n    <tr style=\"text-align: right;\">\n      <th></th>\n      <th>1</th>\n      <th>2020</th>\n      <th>1440</th>\n      <th>Ale</th>\n      <th>0.0</th>\n      <th>0.0.1</th>\n      <th>0</th>\n      <th>0.1</th>\n    </tr>\n  </thead>\n  <tbody>\n    <tr>\n      <th>0</th>\n      <td>2</td>\n      <td>2020</td>\n      <td>1440</td>\n      <td>Ale</td>\n      <td>0.0</td>\n      <td>0.0</td>\n      <td>0</td>\n      <td>0</td>\n    </tr>\n    <tr>\n      <th>1</th>\n      <td>3</td>\n      <td>2020</td>\n      <td>1440</td>\n      <td>Ale</td>\n      <td>0.0</td>\n      <td>0.0</td>\n      <td>0</td>\n      <td>0</td>\n    </tr>\n    <tr>\n      <th>2</th>\n      <td>4</td>\n      <td>2020</td>\n      <td>1440</td>\n      <td>Ale</td>\n      <td>0.0</td>\n      <td>0.0</td>\n      <td>0</td>\n      <td>0</td>\n    </tr>\n    <tr>\n      <th>3</th>\n      <td>5</td>\n      <td>2020</td>\n      <td>1440</td>\n      <td>Ale</td>\n      <td>0.0</td>\n      <td>0.0</td>\n      <td>0</td>\n      <td>0</td>\n    </tr>\n    <tr>\n      <th>4</th>\n      <td>6</td>\n      <td>2020</td>\n      <td>1440</td>\n      <td>Ale</td>\n      <td>0.0</td>\n      <td>0.0</td>\n      <td>0</td>\n      <td>0</td>\n    </tr>\n    <tr>\n      <th>...</th>\n      <td>...</td>\n      <td>...</td>\n      <td>...</td>\n      <td>...</td>\n      <td>...</td>\n      <td>...</td>\n      <td>...</td>\n      <td>...</td>\n    </tr>\n    <tr>\n      <th>18670</th>\n      <td>1</td>\n      <td>2021</td>\n      <td>2518</td>\n      <td>Övertorneå</td>\n      <td>154.0</td>\n      <td>37.0</td>\n      <td>66</td>\n      <td>16</td>\n    </tr>\n    <tr>\n      <th>18671</th>\n      <td>2</td>\n      <td>2021</td>\n      <td>2518</td>\n      <td>Övertorneå</td>\n      <td>188.0</td>\n      <td>35.0</td>\n      <td>81</td>\n      <td>15</td>\n    </tr>\n    <tr>\n      <th>18672</th>\n      <td>3</td>\n      <td>2021</td>\n      <td>2518</td>\n      <td>Övertorneå</td>\n      <td>198.0</td>\n      <td>9.0</td>\n      <td>85</td>\n      <td>4</td>\n    </tr>\n    <tr>\n      <th>18673</th>\n      <td>4</td>\n      <td>2021</td>\n      <td>2518</td>\n      <td>Övertorneå</td>\n      <td>223.0</td>\n      <td>26.0</td>\n      <td>96</td>\n      <td>11</td>\n    </tr>\n    <tr>\n      <th>18674</th>\n      <td>5</td>\n      <td>2021</td>\n      <td>2518</td>\n      <td>Övertorneå</td>\n      <td>247.0</td>\n      <td>23.0</td>\n      <td>106</td>\n      <td>10</td>\n    </tr>\n  </tbody>\n</table>\n<p>18675 rows × 8 columns</p>\n</div>"
     },
     "metadata": {},
     "execution_count": 3
    }
   ],
   "source": [
    "import pandas as pd\n",
    "df = pd.read_csv(\"Municipality_Weekly_Data.csv\", header=1)\n",
    "df"
   ]
  },
  {
   "cell_type": "code",
   "execution_count": 4,
   "metadata": {},
   "outputs": [
    {
     "output_type": "execute_result",
     "data": {
      "text/plain": [
       "     2020-03-11   1\n",
       "0    2020-03-12   0\n",
       "1    2020-03-13   1\n",
       "2    2020-03-14   1\n",
       "3    2020-03-15   2\n",
       "4    2020-03-16   2\n",
       "..          ...  ..\n",
       "332  2021-02-07  16\n",
       "333  2021-02-08  14\n",
       "334  2021-02-09   5\n",
       "335  2021-02-10   3\n",
       "336  2021-02-11   1\n",
       "\n",
       "[337 rows x 2 columns]"
      ],
      "text/html": "<div>\n<style scoped>\n    .dataframe tbody tr th:only-of-type {\n        vertical-align: middle;\n    }\n\n    .dataframe tbody tr th {\n        vertical-align: top;\n    }\n\n    .dataframe thead th {\n        text-align: right;\n    }\n</style>\n<table border=\"1\" class=\"dataframe\">\n  <thead>\n    <tr style=\"text-align: right;\">\n      <th></th>\n      <th>2020-03-11</th>\n      <th>1</th>\n    </tr>\n  </thead>\n  <tbody>\n    <tr>\n      <th>0</th>\n      <td>2020-03-12</td>\n      <td>0</td>\n    </tr>\n    <tr>\n      <th>1</th>\n      <td>2020-03-13</td>\n      <td>1</td>\n    </tr>\n    <tr>\n      <th>2</th>\n      <td>2020-03-14</td>\n      <td>1</td>\n    </tr>\n    <tr>\n      <th>3</th>\n      <td>2020-03-15</td>\n      <td>2</td>\n    </tr>\n    <tr>\n      <th>4</th>\n      <td>2020-03-16</td>\n      <td>2</td>\n    </tr>\n    <tr>\n      <th>...</th>\n      <td>...</td>\n      <td>...</td>\n    </tr>\n    <tr>\n      <th>332</th>\n      <td>2021-02-07</td>\n      <td>16</td>\n    </tr>\n    <tr>\n      <th>333</th>\n      <td>2021-02-08</td>\n      <td>14</td>\n    </tr>\n    <tr>\n      <th>334</th>\n      <td>2021-02-09</td>\n      <td>5</td>\n    </tr>\n    <tr>\n      <th>335</th>\n      <td>2021-02-10</td>\n      <td>3</td>\n    </tr>\n    <tr>\n      <th>336</th>\n      <td>2021-02-11</td>\n      <td>1</td>\n    </tr>\n  </tbody>\n</table>\n<p>337 rows × 2 columns</p>\n</div>"
     },
     "metadata": {},
     "execution_count": 4
    }
   ],
   "source": [
    "import pandas as pd\n",
    "df = pd.read_csv(\"National_Daily_Deaths.csv\", header=1)\n",
    "df"
   ]
  },
  {
   "cell_type": "code",
   "execution_count": 5,
   "metadata": {},
   "outputs": [
    {
     "output_type": "execute_result",
     "data": {
      "text/plain": [
       "     2020-03-06   1\n",
       "0    2020-03-07   1\n",
       "1    2020-03-08   1\n",
       "2    2020-03-09   0\n",
       "3    2020-03-10   2\n",
       "4    2020-03-11   1\n",
       "..          ...  ..\n",
       "337  2021-02-07  13\n",
       "338  2021-02-08  16\n",
       "339  2021-02-09  17\n",
       "340  2021-02-10  10\n",
       "341  2021-02-11   7\n",
       "\n",
       "[342 rows x 2 columns]"
      ],
      "text/html": "<div>\n<style scoped>\n    .dataframe tbody tr th:only-of-type {\n        vertical-align: middle;\n    }\n\n    .dataframe tbody tr th {\n        vertical-align: top;\n    }\n\n    .dataframe thead th {\n        text-align: right;\n    }\n</style>\n<table border=\"1\" class=\"dataframe\">\n  <thead>\n    <tr style=\"text-align: right;\">\n      <th></th>\n      <th>2020-03-06</th>\n      <th>1</th>\n    </tr>\n  </thead>\n  <tbody>\n    <tr>\n      <th>0</th>\n      <td>2020-03-07</td>\n      <td>1</td>\n    </tr>\n    <tr>\n      <th>1</th>\n      <td>2020-03-08</td>\n      <td>1</td>\n    </tr>\n    <tr>\n      <th>2</th>\n      <td>2020-03-09</td>\n      <td>0</td>\n    </tr>\n    <tr>\n      <th>3</th>\n      <td>2020-03-10</td>\n      <td>2</td>\n    </tr>\n    <tr>\n      <th>4</th>\n      <td>2020-03-11</td>\n      <td>1</td>\n    </tr>\n    <tr>\n      <th>...</th>\n      <td>...</td>\n      <td>...</td>\n    </tr>\n    <tr>\n      <th>337</th>\n      <td>2021-02-07</td>\n      <td>13</td>\n    </tr>\n    <tr>\n      <th>338</th>\n      <td>2021-02-08</td>\n      <td>16</td>\n    </tr>\n    <tr>\n      <th>339</th>\n      <td>2021-02-09</td>\n      <td>17</td>\n    </tr>\n    <tr>\n      <th>340</th>\n      <td>2021-02-10</td>\n      <td>10</td>\n    </tr>\n    <tr>\n      <th>341</th>\n      <td>2021-02-11</td>\n      <td>7</td>\n    </tr>\n  </tbody>\n</table>\n<p>342 rows × 2 columns</p>\n</div>"
     },
     "metadata": {},
     "execution_count": 5
    }
   ],
   "source": [
    "import pandas as pd\n",
    "df = pd.read_csv(\"National_Daily_ICU_Admissions.csv\", header=1)\n",
    "df"
   ]
  },
  {
   "cell_type": "code",
   "execution_count": 6,
   "metadata": {},
   "outputs": [
    {
     "output_type": "execute_result",
     "data": {
      "text/plain": [
       "     0-9    9127    22     7\n",
       "0  10-19   62180    35     3\n",
       "1  20-29  107936   142    15\n",
       "2  30-39  107508   194    33\n",
       "3  40-49  109903   483    81\n",
       "4  50-59  101188  1084   261\n",
       "5  60-69   53511  1438   721\n",
       "6  70-79   26476  1259  2605\n",
       "7  80-89   20538   329  5239\n",
       "8    90+    9980     7  3463"
      ],
      "text/html": "<div>\n<style scoped>\n    .dataframe tbody tr th:only-of-type {\n        vertical-align: middle;\n    }\n\n    .dataframe tbody tr th {\n        vertical-align: top;\n    }\n\n    .dataframe thead th {\n        text-align: right;\n    }\n</style>\n<table border=\"1\" class=\"dataframe\">\n  <thead>\n    <tr style=\"text-align: right;\">\n      <th></th>\n      <th>0-9</th>\n      <th>9127</th>\n      <th>22</th>\n      <th>7</th>\n    </tr>\n  </thead>\n  <tbody>\n    <tr>\n      <th>0</th>\n      <td>10-19</td>\n      <td>62180</td>\n      <td>35</td>\n      <td>3</td>\n    </tr>\n    <tr>\n      <th>1</th>\n      <td>20-29</td>\n      <td>107936</td>\n      <td>142</td>\n      <td>15</td>\n    </tr>\n    <tr>\n      <th>2</th>\n      <td>30-39</td>\n      <td>107508</td>\n      <td>194</td>\n      <td>33</td>\n    </tr>\n    <tr>\n      <th>3</th>\n      <td>40-49</td>\n      <td>109903</td>\n      <td>483</td>\n      <td>81</td>\n    </tr>\n    <tr>\n      <th>4</th>\n      <td>50-59</td>\n      <td>101188</td>\n      <td>1084</td>\n      <td>261</td>\n    </tr>\n    <tr>\n      <th>5</th>\n      <td>60-69</td>\n      <td>53511</td>\n      <td>1438</td>\n      <td>721</td>\n    </tr>\n    <tr>\n      <th>6</th>\n      <td>70-79</td>\n      <td>26476</td>\n      <td>1259</td>\n      <td>2605</td>\n    </tr>\n    <tr>\n      <th>7</th>\n      <td>80-89</td>\n      <td>20538</td>\n      <td>329</td>\n      <td>5239</td>\n    </tr>\n    <tr>\n      <th>8</th>\n      <td>90+</td>\n      <td>9980</td>\n      <td>7</td>\n      <td>3463</td>\n    </tr>\n  </tbody>\n</table>\n</div>"
     },
     "metadata": {},
     "execution_count": 6
    }
   ],
   "source": [
    "import pandas as pd\n",
    "df = pd.read_csv(\"National_Total_Deaths_by_Age_Group.csv\", header=1)\n",
    "df"
   ]
  },
  {
   "cell_type": "code",
   "execution_count": 7,
   "metadata": {},
   "outputs": [
    {
     "output_type": "execute_result",
     "data": {
      "text/plain": [
       "     2020-02-04     1   0  0.1  0.2  0.3  0.4  0.5  1.1  0.6  ...  0.10  0.11  \\\n",
       "0    2020-02-05     0   0    0    0    0    0    0    0    0  ...     0     0   \n",
       "1    2020-02-06     0   0    0    0    0    0    0    0    0  ...     0     0   \n",
       "2    2020-02-07     0   0    0    0    0    0    0    0    0  ...     0     0   \n",
       "3    2020-02-08     0   0    0    0    0    0    0    0    0  ...     0     0   \n",
       "4    2020-02-09     0   0    0    0    0    0    0    0    0  ...     0     0   \n",
       "..          ...   ...  ..  ...  ...  ...  ...  ...  ...  ...  ...   ...   ...   \n",
       "368  2021-02-07  1013   3    9    2   37   10    7   10   17  ...   156     4   \n",
       "369  2021-02-08  1516   3    4    2   10  190    8   11   12  ...   498     3   \n",
       "370  2021-02-09  4077  42   93    1  213  314   58  284   41  ...   803   114   \n",
       "371  2021-02-10  4364  33   60   11   99  198   42  212   83  ...   714    73   \n",
       "372  2021-02-11  3807  26   68    7  115  216   37  192   64  ...   800    54   \n",
       "\n",
       "     0.12  0.13  0.14  0.15  0.16  0.17  0.18  0.19  \n",
       "0       0     0     0     0     0     0     0     0  \n",
       "1       0     0     0     0     0     0     0     0  \n",
       "2       0     0     0     0     0     0     0     0  \n",
       "3       0     0     0     0     0     0     0     0  \n",
       "4       0     0     0     0     0     0     0     0  \n",
       "..    ...   ...   ...   ...   ...   ...   ...   ...  \n",
       "368    35    14     8     2    10   321    28   104  \n",
       "369    57     3    11    14    10   200    32    86  \n",
       "370   167   104   320   160    93   707    53   128  \n",
       "371   131    62   182    79    41  1070    58   123  \n",
       "372    92    42   156    68    28   794    57    97  \n",
       "\n",
       "[373 rows x 23 columns]"
      ],
      "text/html": "<div>\n<style scoped>\n    .dataframe tbody tr th:only-of-type {\n        vertical-align: middle;\n    }\n\n    .dataframe tbody tr th {\n        vertical-align: top;\n    }\n\n    .dataframe thead th {\n        text-align: right;\n    }\n</style>\n<table border=\"1\" class=\"dataframe\">\n  <thead>\n    <tr style=\"text-align: right;\">\n      <th></th>\n      <th>2020-02-04</th>\n      <th>1</th>\n      <th>0</th>\n      <th>0.1</th>\n      <th>0.2</th>\n      <th>0.3</th>\n      <th>0.4</th>\n      <th>0.5</th>\n      <th>1.1</th>\n      <th>0.6</th>\n      <th>...</th>\n      <th>0.10</th>\n      <th>0.11</th>\n      <th>0.12</th>\n      <th>0.13</th>\n      <th>0.14</th>\n      <th>0.15</th>\n      <th>0.16</th>\n      <th>0.17</th>\n      <th>0.18</th>\n      <th>0.19</th>\n    </tr>\n  </thead>\n  <tbody>\n    <tr>\n      <th>0</th>\n      <td>2020-02-05</td>\n      <td>0</td>\n      <td>0</td>\n      <td>0</td>\n      <td>0</td>\n      <td>0</td>\n      <td>0</td>\n      <td>0</td>\n      <td>0</td>\n      <td>0</td>\n      <td>...</td>\n      <td>0</td>\n      <td>0</td>\n      <td>0</td>\n      <td>0</td>\n      <td>0</td>\n      <td>0</td>\n      <td>0</td>\n      <td>0</td>\n      <td>0</td>\n      <td>0</td>\n    </tr>\n    <tr>\n      <th>1</th>\n      <td>2020-02-06</td>\n      <td>0</td>\n      <td>0</td>\n      <td>0</td>\n      <td>0</td>\n      <td>0</td>\n      <td>0</td>\n      <td>0</td>\n      <td>0</td>\n      <td>0</td>\n      <td>...</td>\n      <td>0</td>\n      <td>0</td>\n      <td>0</td>\n      <td>0</td>\n      <td>0</td>\n      <td>0</td>\n      <td>0</td>\n      <td>0</td>\n      <td>0</td>\n      <td>0</td>\n    </tr>\n    <tr>\n      <th>2</th>\n      <td>2020-02-07</td>\n      <td>0</td>\n      <td>0</td>\n      <td>0</td>\n      <td>0</td>\n      <td>0</td>\n      <td>0</td>\n      <td>0</td>\n      <td>0</td>\n      <td>0</td>\n      <td>...</td>\n      <td>0</td>\n      <td>0</td>\n      <td>0</td>\n      <td>0</td>\n      <td>0</td>\n      <td>0</td>\n      <td>0</td>\n      <td>0</td>\n      <td>0</td>\n      <td>0</td>\n    </tr>\n    <tr>\n      <th>3</th>\n      <td>2020-02-08</td>\n      <td>0</td>\n      <td>0</td>\n      <td>0</td>\n      <td>0</td>\n      <td>0</td>\n      <td>0</td>\n      <td>0</td>\n      <td>0</td>\n      <td>0</td>\n      <td>...</td>\n      <td>0</td>\n      <td>0</td>\n      <td>0</td>\n      <td>0</td>\n      <td>0</td>\n      <td>0</td>\n      <td>0</td>\n      <td>0</td>\n      <td>0</td>\n      <td>0</td>\n    </tr>\n    <tr>\n      <th>4</th>\n      <td>2020-02-09</td>\n      <td>0</td>\n      <td>0</td>\n      <td>0</td>\n      <td>0</td>\n      <td>0</td>\n      <td>0</td>\n      <td>0</td>\n      <td>0</td>\n      <td>0</td>\n      <td>...</td>\n      <td>0</td>\n      <td>0</td>\n      <td>0</td>\n      <td>0</td>\n      <td>0</td>\n      <td>0</td>\n      <td>0</td>\n      <td>0</td>\n      <td>0</td>\n      <td>0</td>\n    </tr>\n    <tr>\n      <th>...</th>\n      <td>...</td>\n      <td>...</td>\n      <td>...</td>\n      <td>...</td>\n      <td>...</td>\n      <td>...</td>\n      <td>...</td>\n      <td>...</td>\n      <td>...</td>\n      <td>...</td>\n      <td>...</td>\n      <td>...</td>\n      <td>...</td>\n      <td>...</td>\n      <td>...</td>\n      <td>...</td>\n      <td>...</td>\n      <td>...</td>\n      <td>...</td>\n      <td>...</td>\n      <td>...</td>\n    </tr>\n    <tr>\n      <th>368</th>\n      <td>2021-02-07</td>\n      <td>1013</td>\n      <td>3</td>\n      <td>9</td>\n      <td>2</td>\n      <td>37</td>\n      <td>10</td>\n      <td>7</td>\n      <td>10</td>\n      <td>17</td>\n      <td>...</td>\n      <td>156</td>\n      <td>4</td>\n      <td>35</td>\n      <td>14</td>\n      <td>8</td>\n      <td>2</td>\n      <td>10</td>\n      <td>321</td>\n      <td>28</td>\n      <td>104</td>\n    </tr>\n    <tr>\n      <th>369</th>\n      <td>2021-02-08</td>\n      <td>1516</td>\n      <td>3</td>\n      <td>4</td>\n      <td>2</td>\n      <td>10</td>\n      <td>190</td>\n      <td>8</td>\n      <td>11</td>\n      <td>12</td>\n      <td>...</td>\n      <td>498</td>\n      <td>3</td>\n      <td>57</td>\n      <td>3</td>\n      <td>11</td>\n      <td>14</td>\n      <td>10</td>\n      <td>200</td>\n      <td>32</td>\n      <td>86</td>\n    </tr>\n    <tr>\n      <th>370</th>\n      <td>2021-02-09</td>\n      <td>4077</td>\n      <td>42</td>\n      <td>93</td>\n      <td>1</td>\n      <td>213</td>\n      <td>314</td>\n      <td>58</td>\n      <td>284</td>\n      <td>41</td>\n      <td>...</td>\n      <td>803</td>\n      <td>114</td>\n      <td>167</td>\n      <td>104</td>\n      <td>320</td>\n      <td>160</td>\n      <td>93</td>\n      <td>707</td>\n      <td>53</td>\n      <td>128</td>\n    </tr>\n    <tr>\n      <th>371</th>\n      <td>2021-02-10</td>\n      <td>4364</td>\n      <td>33</td>\n      <td>60</td>\n      <td>11</td>\n      <td>99</td>\n      <td>198</td>\n      <td>42</td>\n      <td>212</td>\n      <td>83</td>\n      <td>...</td>\n      <td>714</td>\n      <td>73</td>\n      <td>131</td>\n      <td>62</td>\n      <td>182</td>\n      <td>79</td>\n      <td>41</td>\n      <td>1070</td>\n      <td>58</td>\n      <td>123</td>\n    </tr>\n    <tr>\n      <th>372</th>\n      <td>2021-02-11</td>\n      <td>3807</td>\n      <td>26</td>\n      <td>68</td>\n      <td>7</td>\n      <td>115</td>\n      <td>216</td>\n      <td>37</td>\n      <td>192</td>\n      <td>64</td>\n      <td>...</td>\n      <td>800</td>\n      <td>54</td>\n      <td>92</td>\n      <td>42</td>\n      <td>156</td>\n      <td>68</td>\n      <td>28</td>\n      <td>794</td>\n      <td>57</td>\n      <td>97</td>\n    </tr>\n  </tbody>\n</table>\n<p>373 rows × 23 columns</p>\n</div>"
     },
     "metadata": {},
     "execution_count": 7
    }
   ],
   "source": [
    "import pandas as pd\n",
    "df = pd.read_csv(\"Regional_Daily_Cases.csv\", header=1)\n",
    "df"
   ]
  },
  {
   "cell_type": "code",
   "execution_count": 8,
   "metadata": {},
   "outputs": [
    {
     "output_type": "execute_result",
     "data": {
      "text/plain": [
       "               Blekinge    7646  4790.546875    34   112\n",
       "0               Dalarna   13942  4841.543945   101   302\n",
       "1               Gotland    2650  4439.902344    24    44\n",
       "2             Gävleborg   19426  6759.644043   150   482\n",
       "3               Halland   21052  6305.863770   101   254\n",
       "4   Jämtland Härjedalen    6249  4777.157715    46   100\n",
       "5             Jönköping   24236  6665.584961   219   486\n",
       "6                Kalmar   10391  4233.517578    61   207\n",
       "7             Kronoberg   13080  6492.313965    79   284\n",
       "8            Norrbotten   10977  4389.166992   114   212\n",
       "9                 Skåne  103958  7545.069336   453  1474\n",
       "10            Stockholm  144522  6079.809570  1530  3820\n",
       "11             Sörmland   12214  4104.994141   223   389\n",
       "12              Uppsala   22684  5911.709961   241   467\n",
       "13             Värmland    8320  2946.029541    64   162\n",
       "14         Västerbotten   11957  4400.226562    75   123\n",
       "15       Västernorrland   14034  5720.062012   112   387\n",
       "16          Västmanland   17408  6310.790527    88   311\n",
       "17      Västra Götaland  105596  6118.382324   926  1993\n",
       "18               Örebro   16934  5555.683105   135   285\n",
       "19         Östergötland   21135  4540.328125   217   534"
      ],
      "text/html": "<div>\n<style scoped>\n    .dataframe tbody tr th:only-of-type {\n        vertical-align: middle;\n    }\n\n    .dataframe tbody tr th {\n        vertical-align: top;\n    }\n\n    .dataframe thead th {\n        text-align: right;\n    }\n</style>\n<table border=\"1\" class=\"dataframe\">\n  <thead>\n    <tr style=\"text-align: right;\">\n      <th></th>\n      <th>Blekinge</th>\n      <th>7646</th>\n      <th>4790.546875</th>\n      <th>34</th>\n      <th>112</th>\n    </tr>\n  </thead>\n  <tbody>\n    <tr>\n      <th>0</th>\n      <td>Dalarna</td>\n      <td>13942</td>\n      <td>4841.543945</td>\n      <td>101</td>\n      <td>302</td>\n    </tr>\n    <tr>\n      <th>1</th>\n      <td>Gotland</td>\n      <td>2650</td>\n      <td>4439.902344</td>\n      <td>24</td>\n      <td>44</td>\n    </tr>\n    <tr>\n      <th>2</th>\n      <td>Gävleborg</td>\n      <td>19426</td>\n      <td>6759.644043</td>\n      <td>150</td>\n      <td>482</td>\n    </tr>\n    <tr>\n      <th>3</th>\n      <td>Halland</td>\n      <td>21052</td>\n      <td>6305.863770</td>\n      <td>101</td>\n      <td>254</td>\n    </tr>\n    <tr>\n      <th>4</th>\n      <td>Jämtland Härjedalen</td>\n      <td>6249</td>\n      <td>4777.157715</td>\n      <td>46</td>\n      <td>100</td>\n    </tr>\n    <tr>\n      <th>5</th>\n      <td>Jönköping</td>\n      <td>24236</td>\n      <td>6665.584961</td>\n      <td>219</td>\n      <td>486</td>\n    </tr>\n    <tr>\n      <th>6</th>\n      <td>Kalmar</td>\n      <td>10391</td>\n      <td>4233.517578</td>\n      <td>61</td>\n      <td>207</td>\n    </tr>\n    <tr>\n      <th>7</th>\n      <td>Kronoberg</td>\n      <td>13080</td>\n      <td>6492.313965</td>\n      <td>79</td>\n      <td>284</td>\n    </tr>\n    <tr>\n      <th>8</th>\n      <td>Norrbotten</td>\n      <td>10977</td>\n      <td>4389.166992</td>\n      <td>114</td>\n      <td>212</td>\n    </tr>\n    <tr>\n      <th>9</th>\n      <td>Skåne</td>\n      <td>103958</td>\n      <td>7545.069336</td>\n      <td>453</td>\n      <td>1474</td>\n    </tr>\n    <tr>\n      <th>10</th>\n      <td>Stockholm</td>\n      <td>144522</td>\n      <td>6079.809570</td>\n      <td>1530</td>\n      <td>3820</td>\n    </tr>\n    <tr>\n      <th>11</th>\n      <td>Sörmland</td>\n      <td>12214</td>\n      <td>4104.994141</td>\n      <td>223</td>\n      <td>389</td>\n    </tr>\n    <tr>\n      <th>12</th>\n      <td>Uppsala</td>\n      <td>22684</td>\n      <td>5911.709961</td>\n      <td>241</td>\n      <td>467</td>\n    </tr>\n    <tr>\n      <th>13</th>\n      <td>Värmland</td>\n      <td>8320</td>\n      <td>2946.029541</td>\n      <td>64</td>\n      <td>162</td>\n    </tr>\n    <tr>\n      <th>14</th>\n      <td>Västerbotten</td>\n      <td>11957</td>\n      <td>4400.226562</td>\n      <td>75</td>\n      <td>123</td>\n    </tr>\n    <tr>\n      <th>15</th>\n      <td>Västernorrland</td>\n      <td>14034</td>\n      <td>5720.062012</td>\n      <td>112</td>\n      <td>387</td>\n    </tr>\n    <tr>\n      <th>16</th>\n      <td>Västmanland</td>\n      <td>17408</td>\n      <td>6310.790527</td>\n      <td>88</td>\n      <td>311</td>\n    </tr>\n    <tr>\n      <th>17</th>\n      <td>Västra Götaland</td>\n      <td>105596</td>\n      <td>6118.382324</td>\n      <td>926</td>\n      <td>1993</td>\n    </tr>\n    <tr>\n      <th>18</th>\n      <td>Örebro</td>\n      <td>16934</td>\n      <td>5555.683105</td>\n      <td>135</td>\n      <td>285</td>\n    </tr>\n    <tr>\n      <th>19</th>\n      <td>Östergötland</td>\n      <td>21135</td>\n      <td>4540.328125</td>\n      <td>217</td>\n      <td>534</td>\n    </tr>\n  </tbody>\n</table>\n</div>"
     },
     "metadata": {},
     "execution_count": 8
    }
   ],
   "source": [
    "import pandas as pd\n",
    "df = pd.read_csv(\"Regional_Totals_Data.csv\", header=1)\n",
    "df"
   ]
  },
  {
   "cell_type": "code",
   "execution_count": null,
   "metadata": {},
   "outputs": [],
   "source": []
  }
 ]
}