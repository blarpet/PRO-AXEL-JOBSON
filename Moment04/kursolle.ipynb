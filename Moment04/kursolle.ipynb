{
 "metadata": {
  "language_info": {
   "codemirror_mode": {
    "name": "ipython",
    "version": 3
   },
   "file_extension": ".py",
   "mimetype": "text/x-python",
   "name": "python",
   "nbconvert_exporter": "python",
   "pygments_lexer": "ipython3",
   "version": "3.8.3-final"
  },
  "orig_nbformat": 2,
  "kernelspec": {
   "name": "Python 3.8.3 64-bit (conda)",
   "display_name": "Python 3.8.3 64-bit (conda)",
   "metadata": {
    "interpreter": {
     "hash": "e64f03b2c214f36c8a0d0471c50d2a9adb953d3117efb41f355fd5cfa2269424"
    }
   }
  }
 },
 "nbformat": 4,
 "nbformat_minor": 2,
 "cells": [
  {
   "cell_type": "code",
   "execution_count": 63,
   "metadata": {},
   "outputs": [
    {
     "output_type": "stream",
     "name": "stdout",
     "text": [
      "Din brutolön är 15000 Kr.\nDu får betala 3204 Kr i kommunalskatt.\nDin får betala 1722 Kr i landstingsskat.\nDu får 10074 Kr efter skatt.\n"
     ]
    }
   ],
   "source": [
    "brutolön = int(input(\"Ange din brutolön i heltal:\"))\n",
    "\n",
    "kommunalskatt = int(brutolön*0.2136)\n",
    "\n",
    "landstingsskat = int(brutolön*0.1148)\n",
    "\n",
    "efterskatt = int(brutolön-landstingsskat-kommunalskatt)\n",
    "\n",
    "print(\"Din brutolön är \" f\"{brutolön} \"\"Kr.\")\n",
    "print(\"Du får betala \" f\"{kommunalskatt} \"\"Kr i kommunalskatt.\")\n",
    "print(\"Din får betala \" f\"{landstingsskat} \"\"Kr i landstingsskat.\")\n",
    "print(\"Du får \" f\"{efterskatt} \"\"Kr efter skatt.\" )\n",
    "\n"
   ]
  },
  {
   "cell_type": "code",
   "execution_count": 65,
   "metadata": {},
   "outputs": [
    {
     "output_type": "stream",
     "name": "stdout",
     "text": [
      "Din brutolön är 100 Kr.\nDu får betala 21 Kr i kommunalskatt.\nDin får betala 11 Kr i landstingsskat.\nDu får 68 Kr efter skatt.\nDin årslön är 816 Kr.\n"
     ]
    }
   ],
   "source": [
    "brutolön = int(input(\"Ange din brutolön i heltal:\"))\n",
    "\n",
    "kommunalskatt = int(brutolön*0.2136)\n",
    "\n",
    "landstingsskat = int(brutolön*0.1148)\n",
    "\n",
    "efterskatt = int(brutolön-landstingsskat-kommunalskatt)\n",
    "\n",
    "årslön = int(efterskatt*12)\n",
    "\n",
    "print(\"Din brutolön är \" f\"{brutolön} \"\"Kr.\")\n",
    "print(\"Du får betala \" f\"{kommunalskatt} \"\"Kr i kommunalskatt.\")\n",
    "print(\"Din får betala \" f\"{landstingsskat} \"\"Kr i landstingsskat.\")\n",
    "print(\"Du får \" f\"{efterskatt} \"\"Kr efter skatt.\" )\n",
    "print(\"Din årslön är \" f\"{årslön} \"\"Kr.\" )"
   ]
  },
  {
   "cell_type": "code",
   "execution_count": null,
   "metadata": {},
   "outputs": [],
   "source": []
  }
 ]
}