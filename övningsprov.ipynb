{
 "metadata": {
  "language_info": {
   "codemirror_mode": {
    "name": "ipython",
    "version": 3
   },
   "file_extension": ".py",
   "mimetype": "text/x-python",
   "name": "python",
   "nbconvert_exporter": "python",
   "pygments_lexer": "ipython3",
   "version": "3.8.1-final"
  },
  "orig_nbformat": 2,
  "kernelspec": {
   "name": "python3",
   "display_name": "Python 3.8.1 32-bit",
   "metadata": {
    "interpreter": {
     "hash": "acab747f705e2d2d67d7b5f85d0439e6925ec1dbd5d61423de190953ba9f20bb"
    }
   }
  }
 },
 "nbformat": 4,
 "nbformat_minor": 2,
 "cells": [
  {
   "cell_type": "code",
   "execution_count": 7,
   "metadata": {},
   "outputs": [
    {
     "output_type": "stream",
     "name": "stdout",
     "text": [
      "10 X 1 = ?\n",
      "Right answer!\n",
      "10 X 2 = ?\n",
      "Wrong answer, try again.\n"
     ]
    }
   ],
   "source": [
    "\n",
    "play = int(input(\"Do you want to play? [Y/N]\"))\n",
    "\n",
    "while play == \"Y\":\n",
    "    num = int(input(\"What number do you want to submit?\"))\n",
    "\n",
    "    for i in range(1, 11):\n",
    "        print(f\"{num} X {i} = ?\")\n",
    "        answ = int(input(f\"What is {num} multiplied with {i}?\"))\n",
    "\n",
    "        if answ == num*i:\n",
    "            print(\"Right answer!\")\n",
    "        else:\n",
    "            print(\"Wrong answer, try again.\")"
   ]
  },
  {
   "cell_type": "code",
   "execution_count": null,
   "metadata": {},
   "outputs": [],
   "source": []
  }
 ]
}