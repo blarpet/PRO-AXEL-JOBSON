{
 "metadata": {
  "language_info": {
   "codemirror_mode": {
    "name": "ipython",
    "version": 3
   },
   "file_extension": ".py",
   "mimetype": "text/x-python",
   "name": "python",
   "nbconvert_exporter": "python",
   "pygments_lexer": "ipython3",
   "version": "3.7.3"
  },
  "orig_nbformat": 2,
  "kernelspec": {
   "name": "python373jvsc74a57bd0d1bb9831e6c930bd0a1ae8bd3aaa37e1b7a7ff6f2c216da3a0736498f4ab6204",
   "display_name": "Python 3.7.3 32-bit"
  },
  "metadata": {
   "interpreter": {
    "hash": "d1bb9831e6c930bd0a1ae8bd3aaa37e1b7a7ff6f2c216da3a0736498f4ab6204"
   }
  }
 },
 "nbformat": 4,
 "nbformat_minor": 2,
 "cells": [
  {
   "cell_type": "code",
   "execution_count": 1,
   "metadata": {},
   "outputs": [],
   "source": [
    "import random as rnd\n",
    "\n",
    "play = str(input(\"Do you want to play? [Y/N]\"))\n",
    "wrong = False\n",
    "r = 0\n",
    "w = 0\n",
    "\n",
    "\n",
    "while play == \"Y\":\n",
    "    rnd2 = int(input(\"What number do you want to submit?\"))\n",
    "    wrong = False\n",
    "    while wrong == False:\n",
    "        rnd1 = rnd.randint(1, 10)\n",
    "\n",
    "    \n",
    "        print(f\"{rnd2} X {rnd1} = ?\")\n",
    "        answ = int(input(f\"What is {rnd2} multiplied with {rnd1}?\"))\n",
    "\n",
    "        if answ == rnd1*rnd2:\n",
    "            print(\"Right answer!\")\n",
    "            r += 1\n",
    "        else:\n",
    "            print(\"Wrong answer.\")\n",
    "            w += 1\n",
    "            tryagain = str(input(\"Do want to try again stupidretard? [Y/N]\"))\n",
    "            if tryagain == \"Y\":\n",
    "                wrong = True\n",
    "            else:\n",
    "                print(f\"Your end score is: {r} Correct and {w} Incorrect.\")\n",
    "                break\n",
    "    if tryagain == \"N\":\n",
    "        break\n"
   ]
  },
  {
   "cell_type": "code",
   "execution_count": 3,
   "metadata": {
    "tags": []
   },
   "outputs": [
    {
     "output_type": "stream",
     "name": "stdout",
     "text": [
      "5\n3\n1\n4\n2\n6\n3\n3\n3\n5\n6\n3\n5\n4\n3\n4\n4\n6\n4\n3\n6\n2\n3\n3\n1\n5\n2\n1\n3\n5\n6\n2\n2\n5\n4\n2\n4\n1\n2\n1\n1\n5\n4\n4\n4\n3\n5\n2\n1\n3\n6\n3\n6\n1\n6\n2\n2\n4\n3\n2\n2\n4\n6\n6\n2\n2\n6\n1\n3\n1\n2\n5\n6\n5\n2\n1\n2\n2\n6\n3\n3\n6\n1\n6\n4\n4\n3\n5\n5\n2\n6\n6\n3\n5\n5\n5\n3\n4\n3\n5\n2\n4\n6\n4\n1\n4\n2\n1\n4\n1\n6\n4\n1\n5\n5\n6\n4\n5\n3\n6\n6\n5\n5\n5\n6\n4\n5\n1\n6\n4\n6\n4\n5\n4\n3\n3\n6\n3\n1\n4\n5\n1\n2\n1\n6\n3\n1\n3\n5\n6\n1\n5\n1\n6\n1\n2\n3\n5\n2\n5\n4\n3\n1\n1\n6\n2\n5\n5\n3\n2\n4\n2\n6\n3\n6\n6\n4\n3\n3\n3\n4\n2\n4\n2\n3\n4\n3\n5\n3\n2\n1\n4\n5\n4\n3\n1\n6\n6\n3\n6\n1\n6\n2\n1\n2\n4\n1\n5\n3\n1\n1\n3\n4\n5\n5\n1\n5\n4\n2\n2\n2\n4\n2\n5\n4\n5\n3\n6\n5\n1\n3\n4\n1\n3\n6\n6\n1\n2\n3\n3\n6\n3\n4\n6\n4\n5\n6\n4\n5\n2\n3\n2\n6\n2\n1\n4\n6\n2\n3\n5\n4\n4\n3\n1\n3\n3\n4\n3\n5\n5\n4\n4\n3\n6\n1\n4\n3\n1\n6\n3\n6\n5\n4\n3\n4\n2\n6\n3\n3\n1\n6\n6\n5\n6\n4\n3\n5\n3\n4\n2\n6\n5\n5\n2\n5\n5\n2\n3\n3\n4\n2\n3\n3\n2\n6\n6\n4\n4\n3\n3\n4\n6\n6\n1\n6\n6\n2\n5\n2\n4\n6\n2\n3\n4\n5\n6\n2\n4\n6\n2\n5\n4\n2\n5\n4\n1\n1\n6\n5\n4\n2\n2\n3\n4\n6\n2\n3\n5\n2\n1\n4\n1\n5\n2\n1\n3\n2\n5\n5\n1\n2\n5\n2\n4\n2\n1\n3\n5\n4\n1\n5\n2\n6\n5\n5\n3\n1\n6\n5\n6\n3\n6\n6\n3\n2\n2\n6\n2\n2\n5\n1\n5\n3\n3\n6\n2\n5\n6\n6\n4\n1\n5\n2\n2\n4\n1\n1\n6\n4\n4\n1\n2\n5\n3\n2\n4\n2\n5\n3\n5\n2\n4\n4\n4\n6\n3\n2\n5\n4\n3\n3\n3\n6\n5\n4\n4\n3\n4\n2\n5\n3\n5\n4\n4\n6\n2\n1\n1\n2\n4\n3\n1\n4\n3\n3\n6\n1\n6\n4\n4\n6\n1\n2\n5\n1\n5\n2\n4\n2\n5\n1\n4\n4\n6\n3\n4\n2\n2\n6\n4\n5\n4\n5\n5\n1\n1\n4\n6\n4\n1\n2\n3\n3\n3\n2\n3\n6\n1\n1\n2\n4\n2\n5\n3\n3\n1\n3\n5\n4\n4\n4\n5\n4\n6\n1\n3\n3\n2\n5\n5\n6\n6\n5\n4\n6\n4\n3\n3\n2\n5\n6\n2\n1\n6\n2\n5\n2\n3\n4\n6\n4\n5\n5\n4\n4\n3\n3\n4\n3\n6\n1\n5\n2\n5\n5\n4\n5\n2\n6\n3\n6\n2\n3\n4\n2\n4\n4\n6\n6\n1\n3\n1\n4\n5\n6\n3\n1\n5\n4\n1\n5\n3\n1\n4\n5\n5\n3\n4\n4\n1\n2\n2\n3\n5\n1\n5\n2\n5\n5\n5\n2\n6\n1\n4\n4\n5\n4\n5\n1\n2\n3\n3\n2\n6\n6\n3\n6\n1\n4\n6\n3\n2\n6\n3\n2\n1\n5\n5\n1\n4\n2\n5\n4\n4\n6\n4\n2\n3\n6\n1\n4\n3\n2\n1\n3\n1\n3\n5\n3\n6\n5\n1\n3\n2\n5\n2\n6\n1\n2\n4\n4\n5\n2\n2\n1\n4\n1\n1\n4\n3\n5\n6\n1\n3\n1\n6\n1\n1\n5\n4\n4\n4\n3\n5\n4\n6\n5\n5\n5\n1\n6\n1\n1\n2\n1\n6\n3\n5\n3\n5\n3\n2\n3\n1\n6\n2\n5\n3\n4\n2\n2\n4\n2\n5\n6\n1\n1\n5\n5\n4\n1\n5\n3\n4\n1\n4\n4\n4\n6\n1\n5\n3\n5\n4\n6\n3\n5\n1\n3\n4\n4\n4\n2\n5\n6\n1\n6\n6\n6\n2\n5\n1\n1\n4\n3\n5\n4\n6\n1\n4\n2\n6\n2\n6\n5\n6\n1\n1\n3\n6\n1\n1\n4\n6\n6\n3\n2\n6\n2\n5\n5\n6\n6\n2\n4\n6\n5\n3\n3\n6\n3\n5\n2\n1\n1\n3\n3\n3\n2\n2\n2\n5\n5\n5\n4\n6\n5\n2\n2\n1\n1\n3\n2\n4\n6\n6\n5\n1\n2\n2\n2\n6\n4\n3\n1\n2\n2\n3\n3\n4\n4\n3\n3\n3\n3\n3\n1\n2\n1\n2\n3\n3\n5\n4\n6\n4\n1\n4\n3\n6\n1\n3\n4\n3\n3\n1\n6\n4\n3\n6\n4\n2\n2\n3\n6\n1\n2\n1\n2\n1\n3\n1\n6\n6\n1\n4\n3\n5\n6\n2\n2\n1\n5\n3\n3\n5\n3\n5\n4\n6\n1\n6\n2\n2\n5\n4\n4\n6\n5\n6\n5\n6\n1\n4\n4\n2\n3\n5\n5\n6\n6\n5\n5\n2\n6\n1\n4\n1\n5\n1\n6\n6\n4\n6\n5\n6\n2\n3\n4\n2\n4\n6\n1\n5\n5\n5\n2\n6\n2\n5\n3\n4\n1\n3\n1\n2\n5\n6\n5\n6\n5\n4\n4\n4\n3\n2\n5\n1\n3\n2\n4\n3\n5\n2\n2\n2\n5\n4\n1\n1\n4\n3\n2\n5\n3\n1\n6\n1\n4\n5\n4\n5\n6\n2\n4\n6\n3\n6\n4\n5\nThere are 174 fives out of 1000\n"
     ]
    }
   ],
   "source": [
    "import random as rnd\n",
    "x = 0\n",
    "amount = 0\n",
    "while x < 1000:\n",
    "    x += 1\n",
    "    y = rnd.randint(1,6)\n",
    "    if y == 5:\n",
    "        amount += 1\n",
    "        \n",
    "    print(y)\n",
    "print(f\"There are {amount} fives out of 1000\")"
   ]
  },
  {
   "cell_type": "code",
   "execution_count": 22,
   "metadata": {},
   "outputs": [
    {
     "output_type": "stream",
     "name": "stdout",
     "text": [
      "The sum of money is worth 2 Thousand bills, 3 Two hundred bills, 0 One hundred bills, 1 Fifty bills, 0 Twenty bills, 0 Ten coins, 1 Five coins and 0 One coins \n"
     ]
    }
   ],
   "source": [
    "amount = 2655\n",
    "def function(amount):\n",
    "    thousand = 0\n",
    "    twoHundred = 0\n",
    "    oneHundred = 0\n",
    "    fifty = 0\n",
    "    twenty = 0\n",
    "    ten = 0\n",
    "    five = 0\n",
    "    one = 0\n",
    "\n",
    "    while amount > 999:\n",
    "        thousand += 1\n",
    "        amount = amount - 1000\n",
    "    while amount > 199:\n",
    "        twoHundred += 1\n",
    "        amount = amount - 200\n",
    "    while amount > 99:\n",
    "        oneHundred += 1\n",
    "        amount = amount - 100\n",
    "    while amount > 49:\n",
    "        fifty += 1\n",
    "        amount = amount - 50\n",
    "    while amount > 19:\n",
    "        twenty += 1\n",
    "        amount = amount - 20\n",
    "    while amount > 9:\n",
    "        ten += 1\n",
    "        amount = amount - 10\n",
    "    while amount > 4:\n",
    "        five += 1\n",
    "        amount = amount - 5\n",
    "    while amount > 0:\n",
    "        one += 1\n",
    "        amount = amount - 1\n",
    "\n",
    "    print(f\"The sum of money is worth {thousand} Thousand bills, {twoHundred} Two hundred bills, {oneHundred} One hundred bills, {fifty} Fifty bills, {twenty} Twenty bills, {ten} Ten coins, {five} Five coins and {one} One coins \")\n",
    "        \n",
    "function(amount)\n",
    "\n"
   ]
  },
  {
   "cell_type": "code",
   "execution_count": null,
   "metadata": {},
   "outputs": [],
   "source": []
  }
 ]
}