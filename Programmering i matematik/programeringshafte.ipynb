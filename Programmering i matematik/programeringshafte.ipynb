{
 "metadata": {
  "language_info": {
   "codemirror_mode": {
    "name": "ipython",
    "version": 3
   },
   "file_extension": ".py",
   "mimetype": "text/x-python",
   "name": "python",
   "nbconvert_exporter": "python",
   "pygments_lexer": "ipython3",
   "version": "3.8.3-final"
  },
  "orig_nbformat": 2,
  "kernelspec": {
   "name": "python3",
   "display_name": "Python 3"
  }
 },
 "nbformat": 4,
 "nbformat_minor": 2,
 "cells": [
  {
   "cell_type": "code",
   "execution_count": 7,
   "metadata": {
    "tags": []
   },
   "outputs": [
    {
     "output_type": "stream",
     "name": "stdout",
     "text": "Svar: 4.0cm\n"
    }
   ],
   "source": [
    "k1 = 3\n",
    "h = 5\n",
    "k2 = h**2-k1**2\n",
    "k2 = k2**0.5\n",
    "print (f\"Svar: {k2}cm\")"
   ]
  },
  {
   "cell_type": "code",
   "execution_count": 9,
   "metadata": {
    "tags": []
   },
   "outputs": [
    {
     "output_type": "stream",
     "name": "stdout",
     "text": "Svar: Arean är 2.0cm^2\n"
    }
   ],
   "source": [
    "b = float(input(\"Triangelns bas: \"))\n",
    "h = float(input(\"Triangelns höjd: \"))\n",
    "a = b*h/2\n",
    "print (f\"Svar: Arean är {a}cm^2\")"
   ]
  },
  {
   "cell_type": "code",
   "execution_count": null,
   "metadata": {},
   "outputs": [],
   "source": []
  },
  {
   "cell_type": "code",
   "execution_count": 11,
   "metadata": {
    "tags": []
   },
   "outputs": [
    {
     "output_type": "stream",
     "name": "stdout",
     "text": "Distance: 17\n"
    }
   ],
   "source": [
    "db = 4\n",
    "dh = 1\n",
    "h = db**2+dh**2\n",
    "h = h**0.5\n",
    "print (f\"Distance: {h}\") "
   ]
  },
  {
   "cell_type": "code",
   "execution_count": 13,
   "metadata": {
    "tags": []
   },
   "outputs": [
    {
     "output_type": "stream",
     "name": "stdout",
     "text": "Distance: 1.4142135623730951\n"
    }
   ],
   "source": [
    "dx = 2-1\n",
    "dy = 1-0\n",
    "h = dx**2+dy**2\n",
    "h = h**0.5\n",
    "print (f\"Distance: {h}\")"
   ]
  },
  {
   "cell_type": "code",
   "execution_count": 17,
   "metadata": {
    "tags": []
   },
   "outputs": [
    {
     "output_type": "stream",
     "name": "stdout",
     "text": "Avståndet är: 5.0\n"
    }
   ],
   "source": [
    "p1x = float(input(\"Första pungtens x-värde\"))\n",
    "p1y = float(input(\"Första pungtens y-värde\"))\n",
    "p2x = float(input(\"Andra pungtens x-värde\"))\n",
    "p2y = float(input(\"Andra pungtens y-värde\"))\n",
    "dx = p1x-p2x\n",
    "dy = p1y-p2y\n",
    "h = dx**2+dy**2\n",
    "h = h**0.5\n",
    "print (f\"Avståndet är: {h}\")\n"
   ]
  },
  {
   "cell_type": "code",
   "execution_count": 11,
   "metadata": {
    "tags": []
   },
   "outputs": [
    {
     "output_type": "stream",
     "name": "stdout",
     "text": "Talet är Positivt\n"
    }
   ],
   "source": [
    "tal = float(input(\"Skriv in talet: \"))\n",
    "if tal > 0:print (\"Talet är Positivt\")\n",
    "elif tal < 0:print (\"Talet är Negativt\")\n",
    "else: print (\"Talet är 0\") "
   ]
  },
  {
   "cell_type": "code",
   "execution_count": 35,
   "metadata": {
    "tags": []
   },
   "outputs": [
    {
     "output_type": "stream",
     "name": "stdout",
     "text": "Talet är udda.\n"
    }
   ],
   "source": [
    "tal = int(input(\"Skriv in talet: \"))\n",
    "if tal%2 == 0:\n",
    "    print(\"Talet är jämnt.\")\n",
    "elif tal%5 == 0:\n",
    "    print(\"Kan delas med 5\")\n",
    "else:\n",
    "    print(\"Talet är udda.\")"
   ]
  },
  {
   "cell_type": "code",
   "execution_count": 47,
   "metadata": {
    "tags": []
   },
   "outputs": [
    {
     "output_type": "stream",
     "name": "stdout",
     "text": "Tal 2 är störst. \n"
    }
   ],
   "source": [
    "tal1 = int(input(\"Skriv tal 1: \"))\n",
    "tal2 = int(input(\"Skriv tal 2: \"))\n",
    "tal3 = int(input(\"Skriv tal 3: \"))\n",
    "tal4 = int(input(\"Skriv tal 4: \"))\n",
    "\n",
    "if tal1 > tal2 and tal1 > tal3 and tal1 > tal4:\n",
    "    print(\"Tal 1 är störst.\")\n",
    "elif tal2 > tal3 and tal2 > tal4:\n",
    "    print(\"Tal 2 är störst. \")\n",
    "elif tal3 > tal4:\n",
    "    print(\"Tal 3 är störst. \")\n",
    "else:\n",
    "    print(\"Tal 4 är störst. \")\n"
   ]
  },
  {
   "cell_type": "code",
   "execution_count": 57,
   "metadata": {
    "tags": []
   },
   "outputs": [
    {
     "output_type": "stream",
     "name": "stdout",
     "text": "Vinkeln är Konvex. \n"
    }
   ],
   "source": [
    "vinkeln = int(input(\"Skriv in ett antal vinkel grader: \"))\n",
    "\n",
    "if vinkeln < 90:\n",
    "    print(\"Vinkeln är Spetsig.\")\n",
    "elif vinkeln == 90:\n",
    "    print(\"Vinkeln är Rät vinklig. \")\n",
    "elif vinkeln > 90 and vinkeln < 180:\n",
    "    print(\"Vinkeln är Trubbing. \")\n",
    "elif vinkeln > 180 and vinkeln < 270:\n",
    "    print(\"Vinkeln är Konvex. \")\n",
    "elif vinkeln == 360:\n",
    "    print(\"Vinkeln är Hel.\")\n",
    "else:\n",
    "    print(\"Ogiltig antal grader.\")"
   ]
  },
  {
   "cell_type": "code",
   "execution_count": 69,
   "metadata": {
    "tags": []
   },
   "outputs": [
    {
     "output_type": "stream",
     "name": "stdout",
     "text": "Omkretsen är 0.31400000000000006 och arean är 0.031400000000000004.\n"
    }
   ],
   "source": [
    "radie = float(input(\"Skriv en radie: \"))\n",
    "\n",
    "omkrets = radie * 3.14\n",
    "\n",
    "area = radie * radie * 3.14\n",
    "\n",
    "if radie > 0:\n",
    "    print(f\"Omkretsen är {omkrets} och arean är {area}.\")\n",
    "elif radie < 0:\n",
    "    print(f\"Talet är negativt\")"
   ]
  },
  {
   "cell_type": "code",
   "execution_count": 71,
   "metadata": {
    "tags": []
   },
   "outputs": [
    {
     "output_type": "stream",
     "name": "stdout",
     "text": "Triangeln är inte rätvinklig.\n"
    }
   ],
   "source": [
    "A = float(input(\"Skriv vinkel A: \"))\n",
    "B = float(input(\"Skriv vinkel B: \"))\n",
    "C = float(input(\"Skriv Vinkel C: \"))\n",
    "\n",
    "if A == 90 or B == 90 or C == 90:\n",
    "    print(\"Triangeln är rätvinklig.\")\n",
    "else:\n",
    "    print(\"Triangeln är inte rätvinklig.\")"
   ]
  },
  {
   "cell_type": "code",
   "execution_count": null,
   "metadata": {},
   "outputs": [],
   "source": []
  }
 ]
}