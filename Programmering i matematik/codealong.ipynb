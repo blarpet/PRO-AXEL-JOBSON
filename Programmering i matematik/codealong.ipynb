for j in range(50, 101):
    print(150-j, end=" ")