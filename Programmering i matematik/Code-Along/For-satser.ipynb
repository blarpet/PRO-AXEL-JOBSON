{
 "metadata": {
  "language_info": {
   "codemirror_mode": {
    "name": "ipython",
    "version": 3
   },
   "file_extension": ".py",
   "mimetype": "text/x-python",
   "name": "python",
   "nbconvert_exporter": "python",
   "pygments_lexer": "ipython3",
   "version": "3.8.3-final"
  },
  "orig_nbformat": 2,
  "kernelspec": {
   "name": "Python 3.8.3 64-bit ('base': conda)",
   "display_name": "Python 3.8.3 64-bit ('base': conda)",
   "metadata": {
    "interpreter": {
     "hash": "e64f03b2c214f36c8a0d0471c50d2a9adb953d3117efb41f355fd5cfa2269424"
    }
   }
  }
 },
 "nbformat": 4,
 "nbformat_minor": 2,
 "cells": [
  {
   "cell_type": "code",
   "execution_count": 6,
   "metadata": {
    "tags": []
   },
   "outputs": [
    {
     "output_type": "stream",
     "name": "stdout",
     "text": "0 hej\n1 hej\n2 hej\n3 hej\n"
    }
   ],
   "source": [
    "for i in range(4):\n",
    "    print(f\"{i}. hej\")"
   ]
  },
  {
   "cell_type": "code",
   "execution_count": 16,
   "metadata": {
    "tags": []
   },
   "outputs": [
    {
     "output_type": "stream",
     "name": "stdout",
     "text": "1 2 3 4 5 6 7 8 9 10 11 12 13 14 15 16 17 18 19 20 "
    }
   ],
   "source": [
    "for i in range(1, 21):\n",
    "    print(i, end=\" \")"
   ]
  },
  {
   "cell_type": "code",
   "execution_count": 19,
   "metadata": {
    "tags": []
   },
   "outputs": [
    {
     "output_type": "stream",
     "name": "stdout",
     "text": "Summan = 210\n"
    }
   ],
   "source": [
    "s = 0\n",
    "for i in range(1, 21):\n",
    "    s = s + i\n",
    "print(f\"Summan = {s}\")\n"
   ]
  },
  {
   "cell_type": "code",
   "execution_count": 25,
   "metadata": {
    "tags": []
   },
   "outputs": [
    {
     "output_type": "stream",
     "name": "stdout",
     "text": "1 3 5 7 9 11 "
    }
   ],
   "source": [
    "for i in range(1, 12, 2):\n",
    "    print(i, end=\" \")"
   ]
  },
  {
   "cell_type": "code",
   "execution_count": 28,
   "metadata": {
    "tags": []
   },
   "outputs": [
    {
     "output_type": "stream",
     "name": "stdout",
     "text": "5 4 3 2 1 "
    }
   ],
   "source": [
    "for i in range(5):\n",
    "    print(5-i, end=\" \")"
   ]
  },
  {
   "cell_type": "code",
   "execution_count": 29,
   "metadata": {
    "tags": []
   },
   "outputs": [
    {
     "output_type": "stream",
     "name": "stdout",
     "text": "Tatiana\n"
    }
   ],
   "source": [
    "larare = [\"Kokcun\", \"Henrik\", \"Lisa\", \"Herrman\", \"Tatiana\", \"Niklas\", \"Erik\"]\n",
    "print(larare[4])"
   ]
  },
  {
   "cell_type": "code",
   "execution_count": 36,
   "metadata": {
    "tags": []
   },
   "outputs": [
    {
     "output_type": "stream",
     "name": "stdout",
     "text": "Kokcun Henrik Lisa Herrman Tatiana Niklas Erik "
    }
   ],
   "source": [
    "larareLista = [\"Kokcun\", \"Henrik\", \"Lisa\", \"Herrman\", \"Tatiana\", \"Niklas\", \"Erik\"]\n",
    "\n",
    "for larare in larareLista:\n",
    "    print(larare, end=\" \")"
   ]
  },
  {
   "cell_type": "code",
   "execution_count": null,
   "metadata": {},
   "outputs": [],
   "source": []
  }
 ]
}